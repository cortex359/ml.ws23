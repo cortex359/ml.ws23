{
 "cells": [
  {
   "cell_type": "markdown",
   "metadata": {},
   "source": [
    "# Übung 5\n",
    "\n",
    "**Gruppenname:**\n",
    "\n",
    "*TLJ*\n",
    "\n",
    "Christian Rene Thelen, Artur Less, Karl Johannes"
   ]
  },
  {
   "cell_type": "markdown",
   "metadata": {},
   "source": [
    "### Hinweise\n",
    "* Nutzen Sie für die folgenden Aufgaben **nur** die Mittel, die Ihnen Numpy und Matplotlib zur Verfügung stellt. Aus didaktischen Gründen werden wir erst in der nächsten Übung Werkzeuge der Bibliothek scikit-learn einsetzen."
   ]
  },
  {
   "cell_type": "markdown",
   "metadata": {},
   "source": [
    "###  5.1 Staudamm (Teil 1) - Modellauswahl mit Hold-Out Validation\n",
    "\n",
    "Ein Betreiber eines Staudamms hat in den vergangenen Jahren Messungen durchgeführt, die ermitteln sollen, wie viel Wasser in Abhängigkeit vom Füllstand des Stausees durch den Damm abfließen. Sie haben die Aufgabe, ein Modell zu erstellen, dass die Abflussmenge für beliebige Füllstände vorhersagt. Dazu werden Sie Validierung einsetzen, um aus mehreren Modellen ein finales Modell auszuwählen. Sie können sich unser Vorgehen auf den Folien der Vorlesung noch einmal vergegenwärtigen.\n",
    "\n",
    "* Aus Gründen der Übersichtlichkeit ist diese Übung über mehrere Aufgaben hinweg aufgeteilt (Übung 5.1, 5.2, 5.3).\n",
    "\n",
    "**Ihre Daten**\n",
    "* Die Daten enthalten den Füllstand (x-Variablen) sowie die Wasserabflussmenge (y-Variable) in willkürlichen Einheiten.\n",
    "* Ihr Datensatz ist bereits in Trainingsset (X, y), Validierungsset (Xval, yval) und Testset (Xtest, ytest) unterteilt.\n",
    "\n",
    "**Ihre Aufgaben**\n",
    "\n",
    "(1) Importieren Sie die Daten. Skalieren Sie die Daten folgendermaßen: Sei $x_\\text{max}$ der maximale Wert der Features des Trainingssets. Dividieren Sie die Features des Trainingssets durch $x_\\text{max}$ und dividieren Sie die Features des Validierungssets und des Testsets ebenfalls durch den gleichen Wert $x_\\text{max}$, den Sie durch das Trainingsset erhielten. Visualisieren Sie die Trainingsdaten in einem Plot.\n",
    "\n",
    "* Nebenbemerkungen zur Skalierung: 1. Die genaue Wahl des Wertes, mit dem Sie skalieren (hier $x_\\text{max}$ und nicht etwa $|x_\\text{max}|$), ist hier aus konzeptioneller Sicht nicht so wichtig. Wichtig ist, dass Sie und Ihre Kolleginnen und Kollegen dieselbe Skalierung nutzen, damit Ihre späteren Ergebnisse vergleichbar bleiben.\n",
    "* Sie haben gesehen, dass Sie die Skalierung, die Sie über das Trainingsset bestimmen, so auch auf Validierungs- und Testset anwenden (das ist wichtig), und nicht etwa jedes Set separat skalieren."
   ]
  },
  {
   "cell_type": "code",
   "execution_count": 1,
   "metadata": {
    "ExecuteTime": {
     "end_time": "2023-11-23T15:03:55.257262889Z",
     "start_time": "2023-11-23T15:03:54.795038493Z"
    }
   },
   "outputs": [],
   "source": [
    "import numpy as np\n",
    "%matplotlib inline\n",
    "from scipy.io import loadmat\n",
    "from matplotlib import pyplot as plt\n",
    "from io import BytesIO\n",
    "import urllib.request\n",
    "\n",
    "# Sie finden diese Daten auch zum Download unter: https://data.bialonski.de/ml/water-dam-data.mat\n",
    "file = urllib.request.urlopen('https://data.bialonski.de/ml/water-dam-data.mat')\n",
    "data = loadmat(BytesIO(file.read()))\n",
    "x_train, y_train = data['X'], data['y']\n",
    "x_val, y_val = data['Xval'], data['yval']\n",
    "x_test, y_test = data['Xtest'], data['ytest']\n",
    "\n",
    "# Folgender Code-Schnipsel könnte Ihnen in späteren Aufgaben hilfreich sein:\n",
    "# Ermittelung der Indizes, für die ein Array A den kleinsten Eintrag enthält:\n",
    "# ind = np.unravel_index(np.argmin(A, axis=None), A.shape)"
   ]
  },
  {
   "cell_type": "code",
   "execution_count": 2,
   "outputs": [
    {
     "data": {
      "text/plain": "<Figure size 640x480 with 1 Axes>",
      "image/png": "[encoded data removed]"
     },
     "metadata": {},
     "output_type": "display_data"
    }
   ],
   "source": [
    "x_max = np.max(np.abs(x_train))\n",
    "\n",
    "x_train_scaled = x_train / x_max\n",
    "\n",
    "plt.scatter(x_train, y_train, label='Trainingsdaten')\n",
    "plt.scatter(x_train_scaled, y_train, label='Trainingsdaten skaliert')\n",
    "plt.legend(loc='upper left', fancybox=True)\n",
    "\n",
    "x_val_scaled = x_val / x_max\n",
    "x_test_scaled = x_test / x_max"
   ],
   "metadata": {
    "collapsed": false,
    "ExecuteTime": {
     "end_time": "2023-11-23T15:03:55.375820048Z",
     "start_time": "2023-11-23T15:03:55.275283626Z"
    }
   }
  },
  {
   "cell_type": "markdown",
   "metadata": {},
   "source": [
    "(2) Wir werden diese Daten durch lineare Regression mit nonlinear feature transform modellieren. Kopieren Sie dazu Ihren Code für **regularisierte** lineare Regression (mit weigth decay) in dieses Jupyter Notebook."
   ]
  },
  {
   "cell_type": "code",
   "execution_count": 3,
   "outputs": [],
   "source": [
    "def lin_reg_regularized(X, y, lam):\n",
    "    X_1 = np.column_stack((np.ones(X.shape[0]), X))\n",
    "    #X_1 = np.concatenate((np.ones((X.shape[0], 1)), X), axis=1)\n",
    "    #X_pseudoinverse = np.linalg.inv(X_1.T @ X_1 + lam * np.identity(len(X_1.T))) @ X_1.T\n",
    "    #return X_pseudoinverse @ y[:,0] \n",
    "\n",
    "    X_prod = X_1.T @ X_1\n",
    "    if np.linalg.det(X_prod) == 0:\n",
    "        raise ValueError(\"X^T @ X ist nicht invertierbar\")\n",
    "    X_pseudo = np.linalg.inv(X_prod) @ X_1.T\n",
    "    return X_pseudo @ y\n",
    "\n",
    "\n"
   ],
   "metadata": {
    "collapsed": false,
    "ExecuteTime": {
     "end_time": "2023-11-23T15:03:55.377524745Z",
     "start_time": "2023-11-23T15:03:55.375259923Z"
    }
   }
  },
  {
   "cell_type": "markdown",
   "metadata": {},
   "source": [
    "(3) Implementieren Sie eine Funktion $\\Phi_Q$, die die x-Variablen polynomiell in einer Monomenbasis der Ordnung $Q_f$ transformiert. Das ist die nichtlineare Transformation, die Sie in der vorherigen Übung und in der vorherigen Vorlesungseinheit kennengelernt haben, und die Sie nur für beliebige Werte von $Q_f$ verallgemeinern müssen."
   ]
  },
  {
   "cell_type": "code",
   "execution_count": 4,
   "outputs": [],
   "source": [
    "def phi(X, Q):\n",
    "    # X_reshaped notwendig, da die Daten in der Form (m,1) vorliegen und nicht in der Form (m,). \n",
    "    X_reshaped = X[:,0]\n",
    "    return np.array([X_reshaped**i for i in range(1, Q+1)]).T"
   ],
   "metadata": {
    "collapsed": false,
    "ExecuteTime": {
     "end_time": "2023-11-23T15:03:55.382319855Z",
     "start_time": "2023-11-23T15:03:55.379045517Z"
    }
   }
  },
  {
   "cell_type": "markdown",
   "metadata": {},
   "source": [
    "(4) Wählen Sie $Q=8$ und erstellen Sie mittels linearer Regression (Regularisierungsparameter $\\lambda=0$) einen Fit. Visualisieren Sie die Trainingsdaten sowie das Polynom, welches Sie durch die Regression erhalten haben."
   ]
  },
  {
   "cell_type": "code",
   "execution_count": 5,
   "outputs": [
    {
     "ename": "ValueError",
     "evalue": "Coefficient array is not 1-d",
     "output_type": "error",
     "traceback": [
      "\u001B[0;31m---------------------------------------------------------------------------\u001B[0m",
      "\u001B[0;31mValueError\u001B[0m                                Traceback (most recent call last)",
      "Cell \u001B[0;32mIn[5], line 4\u001B[0m\n\u001B[1;32m      1\u001B[0m \u001B[38;5;28;01mfrom\u001B[39;00m \u001B[38;5;21;01mnumpy\u001B[39;00m\u001B[38;5;21;01m.\u001B[39;00m\u001B[38;5;21;01mpolynomial\u001B[39;00m \u001B[38;5;28;01mimport\u001B[39;00m Polynomial\n\u001B[1;32m      3\u001B[0m w_linreg \u001B[38;5;241m=\u001B[39m lin_reg_regularized(phi(x_train_scaled, \u001B[38;5;241m8\u001B[39m), y_train, \u001B[38;5;241m0.0\u001B[39m)\n\u001B[0;32m----> 4\u001B[0m p \u001B[38;5;241m=\u001B[39m \u001B[43mPolynomial\u001B[49m\u001B[43m(\u001B[49m\u001B[38;5;28;43mtuple\u001B[39;49m\u001B[43m(\u001B[49m\u001B[43mw_linreg\u001B[49m\u001B[43m)\u001B[49m\u001B[43m)\u001B[49m\n\u001B[1;32m      6\u001B[0m plt\u001B[38;5;241m.\u001B[39mscatter(x_train_scaled, y_train, label\u001B[38;5;241m=\u001B[39m\u001B[38;5;124m'\u001B[39m\u001B[38;5;124mTrainingsdaten\u001B[39m\u001B[38;5;124m'\u001B[39m)\n\u001B[1;32m      7\u001B[0m plt\u001B[38;5;241m.\u001B[39mplot(np\u001B[38;5;241m.\u001B[39marange(\u001B[38;5;241m-\u001B[39m\u001B[38;5;241m1\u001B[39m, \u001B[38;5;241m1\u001B[39m, \u001B[38;5;241m0.01\u001B[39m), p(np\u001B[38;5;241m.\u001B[39marange(\u001B[38;5;241m-\u001B[39m\u001B[38;5;241m1\u001B[39m, \u001B[38;5;241m1\u001B[39m, \u001B[38;5;241m0.01\u001B[39m)), label\u001B[38;5;241m=\u001B[39m\u001B[38;5;124m'\u001B[39m\u001B[38;5;124mFit\u001B[39m\u001B[38;5;124m'\u001B[39m)\n",
      "File \u001B[0;32m~/GitHub/ml.ws23/venv/lib/python3.11/site-packages/numpy/polynomial/_polybase.py:305\u001B[0m, in \u001B[0;36mABCPolyBase.__init__\u001B[0;34m(self, coef, domain, window, symbol)\u001B[0m\n\u001B[1;32m    304\u001B[0m \u001B[38;5;28;01mdef\u001B[39;00m \u001B[38;5;21m__init__\u001B[39m(\u001B[38;5;28mself\u001B[39m, coef, domain\u001B[38;5;241m=\u001B[39m\u001B[38;5;28;01mNone\u001B[39;00m, window\u001B[38;5;241m=\u001B[39m\u001B[38;5;28;01mNone\u001B[39;00m, symbol\u001B[38;5;241m=\u001B[39m\u001B[38;5;124m'\u001B[39m\u001B[38;5;124mx\u001B[39m\u001B[38;5;124m'\u001B[39m):\n\u001B[0;32m--> 305\u001B[0m     [coef] \u001B[38;5;241m=\u001B[39m \u001B[43mpu\u001B[49m\u001B[38;5;241;43m.\u001B[39;49m\u001B[43mas_series\u001B[49m\u001B[43m(\u001B[49m\u001B[43m[\u001B[49m\u001B[43mcoef\u001B[49m\u001B[43m]\u001B[49m\u001B[43m,\u001B[49m\u001B[43m \u001B[49m\u001B[43mtrim\u001B[49m\u001B[38;5;241;43m=\u001B[39;49m\u001B[38;5;28;43;01mFalse\u001B[39;49;00m\u001B[43m)\u001B[49m\n\u001B[1;32m    306\u001B[0m     \u001B[38;5;28mself\u001B[39m\u001B[38;5;241m.\u001B[39mcoef \u001B[38;5;241m=\u001B[39m coef\n\u001B[1;32m    308\u001B[0m     \u001B[38;5;28;01mif\u001B[39;00m domain \u001B[38;5;129;01mis\u001B[39;00m \u001B[38;5;129;01mnot\u001B[39;00m \u001B[38;5;28;01mNone\u001B[39;00m:\n",
      "File \u001B[0;32m~/GitHub/ml.ws23/venv/lib/python3.11/site-packages/numpy/polynomial/polyutils.py:138\u001B[0m, in \u001B[0;36mas_series\u001B[0;34m(alist, trim)\u001B[0m\n\u001B[1;32m    136\u001B[0m     \u001B[38;5;28;01mraise\u001B[39;00m \u001B[38;5;167;01mValueError\u001B[39;00m(\u001B[38;5;124m\"\u001B[39m\u001B[38;5;124mCoefficient array is empty\u001B[39m\u001B[38;5;124m\"\u001B[39m)\n\u001B[1;32m    137\u001B[0m \u001B[38;5;28;01mif\u001B[39;00m \u001B[38;5;28many\u001B[39m(a\u001B[38;5;241m.\u001B[39mndim \u001B[38;5;241m!=\u001B[39m \u001B[38;5;241m1\u001B[39m \u001B[38;5;28;01mfor\u001B[39;00m a \u001B[38;5;129;01min\u001B[39;00m arrays):\n\u001B[0;32m--> 138\u001B[0m     \u001B[38;5;28;01mraise\u001B[39;00m \u001B[38;5;167;01mValueError\u001B[39;00m(\u001B[38;5;124m\"\u001B[39m\u001B[38;5;124mCoefficient array is not 1-d\u001B[39m\u001B[38;5;124m\"\u001B[39m)\n\u001B[1;32m    139\u001B[0m \u001B[38;5;28;01mif\u001B[39;00m trim:\n\u001B[1;32m    140\u001B[0m     arrays \u001B[38;5;241m=\u001B[39m [trimseq(a) \u001B[38;5;28;01mfor\u001B[39;00m a \u001B[38;5;129;01min\u001B[39;00m arrays]\n",
      "\u001B[0;31mValueError\u001B[0m: Coefficient array is not 1-d"
     ]
    }
   ],
   "source": [
    "from numpy.polynomial import Polynomial\n",
    "\n",
    "w_linreg = lin_reg_regularized(phi(x_train_scaled, 8), y_train, 0.0)\n",
    "p = Polynomial(tuple(w_linreg))\n",
    "\n",
    "plt.scatter(x_train_scaled, y_train, label='Trainingsdaten')\n",
    "plt.plot(np.arange(-1, 1, 0.01), p(np.arange(-1, 1, 0.01)), label='Fit')\n",
    "plt.legend(loc='upper left')\n",
    "plt.show()"
   ],
   "metadata": {
    "collapsed": false,
    "ExecuteTime": {
     "end_time": "2023-11-23T15:03:55.615514216Z",
     "start_time": "2023-11-23T15:03:55.384300150Z"
    }
   }
  },
  {
   "cell_type": "markdown",
   "metadata": {},
   "source": [
    "(5) Wir untersuchen jetzt eine Reihe von Lernmodellen, die sich nur in der Stärke der Regularisierung (parametrisiert durch $\\lambda$) voneinander unterscheiden. Implementieren Sie dazu zunächst eine Funktion, die Datenpaare $(x, y)$ sowie eine Hypothese $f$ entgegennimmt, und den mittleren quadratischen Fehler zwischen $f(x)$ und $y$ zurückgibt."
   ]
  },
  {
   "cell_type": "code",
   "execution_count": null,
   "outputs": [],
   "source": [
    "def mqe(data_tuples: tuple[float, float], f: Polynomial, debug: bool | None = False) -> float:\n",
    "    s: int = 0\n",
    "    n: int = 0\n",
    "    \n",
    "    if debug: print('{:>8s} {:>8s}'.format('f(x)', 'y'))\n",
    "    for x, y in data_tuples:\n",
    "        if debug: print('{:8.4f} {:8.4f}'.format(*f(x), *y))\n",
    "        s += (f(x) - y) ** 2\n",
    "        n += 1\n",
    "    return s / n\n",
    "\n",
    "D = zip(x_train_scaled, y_train)\n",
    "print(mqe(D, p))"
   ],
   "metadata": {
    "collapsed": false,
    "ExecuteTime": {
     "end_time": "2023-11-23T15:03:55.676692986Z",
     "start_time": "2023-11-23T15:03:55.617072859Z"
    }
   }
  },
  {
   "cell_type": "markdown",
   "metadata": {},
   "source": [
    "(6) Bestimmen Sie mit dem **Trainingsset** und regularisierter linearer Regression für jedes $\\lambda \\in \\{0, 0.05, 0.1,\\ldots, 2 \\}$ und $Q=8$ ein Polynom (Modell), das die Daten beschreibt. Bestimmen Sie mithilfe Ihrer Funktion aus Schritt (5) für jedes Ihrer Modelle den mittleren quadratischen Fehler $E_\\text{val}$ auf dem **Validierungsset**. Sie erhalten also für jedes Modell $\\lambda$ einen Validierungsfehler $E_\\text{val}(\\lambda)$."
   ]
  },
  {
   "cell_type": "code",
   "execution_count": null,
   "outputs": [],
   "source": [
    "# Transformiere Validierungsset in ein Array von 2er-Tupeln [(x1, y1), (x2, y2), ...] \n",
    "D = np.rec.fromarrays([x_val_scaled[:,0], y_val[:,0]])\n",
    "\n",
    "# Erstelle Tabelle Lambda vs. E_val\n",
    "validations: list[tuple[float, float]] = []\n",
    "print('{:6s} | {:>8s}'.format('Lambda', 'E_val'))\n",
    "print('-'*17)\n",
    "for alpha in np.arange(0, 2.05, step=0.05):\n",
    "    _w = lin_reg_regularized(phi(x_train_scaled, 8), y_train, alpha)\n",
    "    _modell = Polynomial(_w)\n",
    "    _mqe = mqe(D, _modell)\n",
    "    validations.append((alpha, _mqe))\n",
    "    print('{:6.2f} | {:8.3f}'.format(alpha, _mqe))"
   ],
   "metadata": {
    "collapsed": false,
    "ExecuteTime": {
     "start_time": "2023-11-23T15:03:55.659656338Z"
    }
   }
  },
  {
   "cell_type": "markdown",
   "metadata": {},
   "source": [
    "(7) Visualisieren Sie $E_\\text{val}(\\lambda)$ in Abhängigkeit von $\\lambda$. Wie interpretieren Sie den Plot? (1-2 Sätze)"
   ]
  },
  {
   "cell_type": "code",
   "execution_count": null,
   "outputs": [],
   "source": [
    "Evals = np.rec.fromrecords(validations, names='x,y')\n",
    "plt.scatter(Evals.x , Evals.y)\n",
    "plt.xlabel(\"$\\lambda$\")\n",
    "plt.ylabel(\"$E_{val}(\\lambda)$\")\n",
    "plt.show()"
   ],
   "metadata": {
    "collapsed": false,
    "ExecuteTime": {
     "start_time": "2023-11-23T15:03:55.659812941Z"
    }
   }
  },
  {
   "cell_type": "markdown",
   "metadata": {},
   "source": [
    "(8) Betrachten Sie Ihre Visualisierung aus Schritt (7). Welchen Parameterwert $\\lambda$ wählen Sie aus für Ihr bestes Modell? (1 Wort)"
   ]
  },
  {
   "cell_type": "markdown",
   "source": [
    "Für das Beste Modell wählen wir $\\lambda = 0.4$. Dies ist der Wert, bei dem der Validierungsfehler am geringsten ist."
   ],
   "metadata": {
    "collapsed": false
   }
  },
  {
   "cell_type": "markdown",
   "metadata": {},
   "source": [
    "(9) Visualisieren Sie Ihr finales Modell (finales Polynom) zusammen mit den Trainings- und Validierungsdaten in einem Plot. Beurteilen Sie, ob Ihr Modell die Validierungsdaten gut approximiert. (1 Satz)"
   ]
  },
  {
   "cell_type": "code",
   "execution_count": null,
   "outputs": [],
   "source": [
    "w_linreg = lin_reg_regularized(phi(x_train_scaled, 8), y_train, 0.4)\n",
    "p = Polynomial(tuple(w_linreg))\n",
    "\n",
    "plt.scatter(x_train, y_train, label='Trainingsdaten')\n",
    "plt.scatter(x_val, y_val, label='Validierungsdaten')\n",
    "#plt.scatter(x_test, y_test, label='Testdaten')\n",
    "plt.plot(np.arange(-1, 1, 0.01)*x_max, p(np.arange(-1, 1, 0.01)), label='Finales Modell $\\lambda = 0.4$')\n",
    "plt.legend(loc='upper left')\n",
    "plt.show()"
   ],
   "metadata": {
    "collapsed": false,
    "ExecuteTime": {
     "start_time": "2023-11-23T15:03:55.659888963Z"
    }
   }
  },
  {
   "cell_type": "markdown",
   "source": [
    "Das Modell approximiert die Validierungsdaten gut. "
   ],
   "metadata": {
    "collapsed": false
   }
  },
  {
   "cell_type": "markdown",
   "metadata": {},
   "source": [
    "### 5.2 Staudamm (Teil 2) - Gittersuche\n",
    "\n",
    "Sie haben in der Vorlesung gelernt, dass es viele verschiedene Regularisierungstechniken gibt. Unter anderem lässt sich die strikte Beschränkung der Modellordnung (hier: der Ordnung der Polynome) als Regularisierung unseres Hypothesensets interpretieren. In dieser Übungsaufgabe werden wir uns anschauen, welche Auswirkung die Polynomordnung auf die Qualität unserer Fits auf die Daten von Übung 5.1. haben.\n",
    "\n",
    "* Dies ist eine Fortsetzung der Übung 5.1.\n",
    "\n",
    "**Ihre Aufgaben**\n",
    "\n",
    "(1) Setzen Sie $\\lambda=0$. Bestimmen Sie für $Q\\in\\{0, 1, \\ldots, 8\\}$ je ein Polynom (Modell) über das **Trainingsset**. Benutzen Sie das **Validierungsset**, um $E_\\text{val}(Q)$ zu bestimmen."
   ]
  },
  {
   "cell_type": "code",
   "execution_count": null,
   "outputs": [],
   "source": [
    "# @TODO: Polynom Ordnung 0\n",
    "for _Q in np.arange(0, 8, step=1):\n",
    "    _w = lin_reg_regularized(phi(x_train_scaled, _Q), y_train, 0)\n",
    "    _modell = Polynomial(_w)\n",
    "    _mqe = mqe(D, _modell)\n",
    "    validations.append((alpha, _mqe))\n",
    "    print('{:2d} | {:8.3f}'.format(_Q, _mqe))"
   ],
   "metadata": {
    "collapsed": false,
    "ExecuteTime": {
     "start_time": "2023-11-23T15:03:55.659937641Z"
    }
   }
  },
  {
   "cell_type": "markdown",
   "metadata": {},
   "source": [
    "(2) Visualisieren Sie (wie bei Übung 5.1 im Schritt 7) $E_\\text{val}(Q)$ in Abhängigkeit der Polynomordnung $Q$. Wie interpretieren Sie den Plot? (1-2 Sätze) Für welches beste Modell entscheiden Sie sich? (1 Wort)"
   ]
  },
  {
   "cell_type": "markdown",
   "metadata": {},
   "source": [
    "(3) Soweit haben wir gesehen, dass unsere Lernmodelle durch $\\lambda$ und $Q$ parametrisiert werden. Ein folgerichtiger Schritt ist es also, zu untersuchen, für welche Kombination aus $(Q,\\lambda)$-Parametern wir das beste Modell erhalten. **Dieser Vorgang wird Gittersuche genannt**, da Sie sich die Parameterkombinationen als Knoten eines (je nach Parameteranzahl hochdimensionalen) Gitters vorstellen können. Sei $Q\\in\\{0, 1, \\ldots, 8\\}$ und $\\lambda \\in \\{0, 0.5, 1, 1.5, \\ldots, 10 \\}$ gegeben. Bestimmen Sie für jede Kombination $(Q, \\lambda)$ ein Modell mit dem Trainingsset und bestimmen $E_\\text{val}(Q,\\lambda)$ mit dem Validierungsset."
   ]
  },
  {
   "cell_type": "markdown",
   "metadata": {},
   "source": [
    "(4) Visualisieren Sie $E_\\text{val}(Q,\\lambda)$ ([diese](https://matplotlib.org/api/_as_gen/matplotlib.pyplot.imshow.html) und [diese](https://matplotlib.org/api/_as_gen/matplotlib.pyplot.colorbar.html) Funktionen können Ihnen dabei helfen). Bestimmen Sie Ihre finalen Parameter, indem Sie die Parameterkombination $\\lambda$ und $Q$ auswählen, welche den niedrigsten Validierungsfehler erzielt."
   ]
  },
  {
   "cell_type": "markdown",
   "metadata": {},
   "source": [
    "(5) Dem Staudammbetreiber wollen Sie das bestmögliche (das finale) Modell ausliefern. Welches finale Modell liefern Sie dem Staudammbetreiber aus? Wie erhalten Sie es? (1-2 Sätze) Tipp: Wenn Sie sich unsicher sind, schlagen Sie in der Vorlesung 5 nach."
   ]
  },
  {
   "cell_type": "markdown",
   "metadata": {},
   "source": [
    "(6) Erstellen Sie gemäß Ihrer Überlegungen aus Schritt (5) Ihr finales Modell $g$. Ermitteln Sie den mittleren quadratischen Fehler $E_\\text{test}$ auf dem **Testset** und geben ihn hier aus. Bitte stellen Sie kurz für sich fest, dass wir hier zum ersten Mal das Testset benutzen. Warum? (1 Satz)"
   ]
  },
  {
   "cell_type": "markdown",
   "metadata": {},
   "source": [
    "(7) Visualisieren Sie Ihr finales Modell zusammen mit den Trainings-, Validierungs- und Testdaten in einem Plot. Beurteilen Sie, ob Ihr Modell die Testdaten gut approximiert (1 Satz)."
   ]
  },
  {
   "cell_type": "markdown",
   "metadata": {},
   "source": [
    "### 5.3 Staudamm (Teil 3) - Kreuzvalidierung\n",
    "\n",
    "* Dies ist eine Fortsetzung der Übung 5.2.\n",
    "\n",
    "Stelle Sie sich vor, dass Sie nur wenig Datenpunkte zur Verfügung haben, um ein Modell für den Staudammbetreiber zu finden, welches die abfließende Wassermenge in Abhängigkeit vom Füllstand des Stausees vorhersagen soll. Dennoch wollen Sie eine Validierung durchführen, um Hyperparameter zu bestimmen. \n",
    "\n",
    "Konkret: **Ihr Datensatz bestehe nur noch aus den Daten des Trainingssets.**\n",
    "\n",
    "In dieser Übung werden wir die **L**eave-**O**ne-**O**ut Kreuzvalidierung (LOO-CV) implementieren, um mit ihrer Hilfe die Ordnung $Q$ unseres finalen Modells zu wählen. Wir werden also Kreuzvalidierung für die Modellselektion einsetzen.\n",
    "\n",
    "**Ihre Aufgaben**\n",
    "\n",
    "(1) Implementieren Sie eine Funktion, die Ihnen den Kreuzvalidierungsfehler $E_\\text{CV}(Q)$ für ein Modell mit gegebener Polynomordnung $Q$ zurückgibt. Schlagen Sie dazu in den Vorlesungsfolien nach, um zu verstehen, wie $E_\\text{CV}$ aus den punktweisen Fehlern $\\text{e}_n$ bestimmt wird. Hinweis: Ihre Funktion muss für die Bestimmung jedes punktweisen Fehlers $\\text{e}_n$ ein neues Modell trainieren."
   ]
  },
  {
   "cell_type": "markdown",
   "metadata": {},
   "source": [
    "(2) Setzen Sie den Regularisierungsparameter $\\lambda=0$. Ermitteln Sie $E_\\text{CV}(Q)$ für $Q\\in\\{0, 1, \\ldots, 9\\}$."
   ]
  },
  {
   "cell_type": "markdown",
   "metadata": {},
   "source": [
    "(3) Visualisieren Sie $E_\\text{CV}$ als Funktion von $Q$. Für welchen Wert $Q$ wird $E_\\text{CV}$ minimiert? "
   ]
  },
  {
   "cell_type": "markdown",
   "metadata": {},
   "source": [
    "(4) Vergleichen Sie den im Schritt (3) ermittelten Wert für $Q$ Ihres finales Modells mit dem Wert aus Übung 5.2 Schritt (2)."
   ]
  },
  {
   "cell_type": "markdown",
   "metadata": {},
   "source": [
    "(5) Vergleichen Sie den im Schritt (3) ermittelten Fehler $E_\\text{CV}$ für Ihr bestes Modell ($Q$) mit dem Fehler $E_\\text{val}$ für Ihr bestes Modell aus Übung 5.2 Schritt (2)."
   ]
  }
 ],
 "metadata": {
  "hide_input": false,
  "kernelspec": {
   "display_name": "Python 3",
   "language": "python",
   "name": "python3"
  },
  "language_info": {
   "codemirror_mode": {
    "name": "ipython",
    "version": 3
   },
   "file_extension": ".py",
   "mimetype": "text/x-python",
   "name": "python",
   "nbconvert_exporter": "python",
   "pygments_lexer": "ipython3",
   "version": "3.7.7"
  }
 },
 "nbformat": 4,
 "nbformat_minor": 2
}
