{
 "cells": [
  {
   "cell_type": "markdown",
   "metadata": {},
   "source": [
    "# Übung 1\n",
    "\n",
    "**Gruppenname:**\n",
    "\n",
    "*Name Ihrer Gruppe*\n",
    "\n",
    "Gehen Sie wie folgt vor:\n",
    "\n",
    "1. Bitte benennen Sie jetzt dieses Jupyter Notebook um (z.B. über `File -> Rename`):\n",
    "\n",
    "   Namensschema: `Gruppenname-X`. Ersetzen Sie \"X\" mit der oben angegebenen Nummer der Übung.\n",
    "   \n",
    "   - Beispiel 1: Team REZA bearbeitet Übung 2. Das Notebook heißt: REZA-2.\n",
    "   - Beispiel 2: Sie sind keinem Team zugeordnet (nicht empfehlenswert) und bearbeiten Übung 2: Ihr Notebook heißt: Nachname-2.\n",
    "\n",
    "\n",
    "2. Tragen Sie Ihren Gruppennamen auch ganz oben bei \"Name Ihrer Gruppe\" ein.\n",
    "\n",
    "3. Bearbeiten Sie dann dieses Notebook. Vergessen Sie dabei nicht, das Jupyter Notebook regelmäßig zu speichern (z.B. über `Strg + S` oder über `File -> Save and Checkpoint`)."
   ]
  },
  {
   "cell_type": "markdown",
   "metadata": {},
   "source": [
    "## 1.1 Zentrale Lernprobleme im Machine Learning\n"
   ]
  },
  {
   "cell_type": "markdown",
   "metadata": {},
   "source": [
    "In dieser **kurzen Übung** möchte ich Ihren Blick für die verschiedenen Lernproblemtypen im Machine Learning schärfen. Wenn Sie mit Daten zu tun haben, dann werden Sie oft Ideen generieren wollen, was Sie mit den Daten eigentlich machen können. Ihre Daten bestimmen, welche Methoden und welche Lernproblemtypen im Machine Learning anwendbar sind.\n",
    "\n",
    "* Betrachten Sie kurz noch einmal die folgende Folie aus der Vorlesung. \n",
    "* Als kurze Erinnerung zur Vorlesung: Unsupervised Learning wird typischerweise für Aufgaben wie Clustering (= Einteilen von Objekten in verschiedene Gruppen) oder Dimensionsreduktion eingesetzt.\n",
    "* Bearbeiten Sie dann die unter der Folie stehenden Fragen."
   ]
  },
  {
   "cell_type": "markdown",
   "metadata": {},
   "source": [
    "<img src=\"https://data.bialonski.de/ml/exercise-1.png\" style=\"border:1px solid black\">"
   ]
  },
  {
   "cell_type": "markdown",
   "metadata": {},
   "source": [
    "Sie finden unten eine Liste von Aufgaben und Daten.\n",
    "\n",
    "* Im Falle von Aufgaben: In welche der drei auf der Folie genannten Lernproblemklassen (Supervised, Unsupervised, Reinforcement Learning) fallen diese Aufgaben? Bei Ihren Überlegungen kann es hilfreich sein, sich vorzustellen, welche Daten bei den Aufgaben vorliegen könnten. \n",
    "\n",
    "* Im Falle von Daten: In welche Lernproblemklasse könnten diese Daten fallen?\n",
    "\n",
    "Mehrfachantworten können möglich sein. Begründen Sie ganz kurz Ihre Antwort (nur Stichworte; investieren Sie nicht zu viel Zeit). "
   ]
  },
  {
   "cell_type": "markdown",
   "metadata": {},
   "source": [
    "###### 1. Automatische Buchempfehlung für Kunden eines Onlinebuchhändlers."
   ]
  },
  {
   "cell_type": "markdown",
   "metadata": {},
   "source": [
    "Reinforcmenet Learning, da nicht nur vergangene Buchkäufe, sondern auch der Erfolg von früheren Empfehlungen einen Einfluss auf die nächsten Empfehlungen haben soll. "
   ]
  },
  {
   "cell_type": "markdown",
   "metadata": {},
   "source": [
    "###### 2. Vorhersage des Kreditlimits von Bankkunden."
   ]
  },
  {
   "cell_type": "markdown",
   "metadata": {},
   "source": [
    "Supervised Learning, da die Daten als Input-Output Paare vorliegen."
   ]
  },
  {
   "cell_type": "markdown",
   "metadata": {},
   "source": [
    "###### 3. Spielen des Strategiespiels Tic-Tac-Toe."
   ]
  },
  {
   "cell_type": "markdown",
   "metadata": {},
   "source": [
    "Reinforcmenet Learning, da nach einer optimalen Spielstrategie gesucht ist."
   ]
  },
  {
   "cell_type": "markdown",
   "metadata": {},
   "source": [
    "###### 4. Eine Datenbank mit Songs (Audiodaten)."
   ]
  },
  {
   "cell_type": "markdown",
   "metadata": {},
   "source": [
    "Unsupervised Learning, da nur eine Funktion gesucht ist, die die Daten gut beschreibt."
   ]
  },
  {
   "cell_type": "markdown",
   "metadata": {},
   "source": [
    "###### 5. Eine Datenbank mit Songs (Audiodaten) sowie Songtitel und Künstler."
   ]
  },
  {
   "cell_type": "markdown",
   "metadata": {},
   "source": [
    "Unsupervised Learning, da nur eine Funktion gesucht ist, die die Daten gut beschreibt."
   ]
  },
  {
   "cell_type": "markdown",
   "metadata": {},
   "source": [
    "## 1.2. Perzeptron-Lern-Algorithmus (PLA)"
   ]
  },
  {
   "cell_type": "markdown",
   "metadata": {},
   "source": [
    "Das Perzeptron haben Sie in der Vorlesung kurz kennengelernt, als wir darüber diskutierten, wie eine Bank entscheiden könnte, ob sie Kunden Kredit gewährt oder nicht. Ein Perzeptron lässt sich als ganz einfaches Neuron interpretieren, mit dem wir Supervised Learning für Klassifikationsprobleme einsetzen können. In dieser Übung werden Sie das Perzeptron sowie den Perzeptron-Lern-Algorithmus (PLA) implementieren, mithilfe dessen Hilfe ein Perzeptron auf Daten für Klassifikationsprobleme trainiert werden kann.\n",
    "\n",
    "PLA lässt sich recht einfach implementieren und erlaubt Ihnen, erste Erfahrungen mit Supervised Machine Learning zu sammeln, ohne dass die Komplexität von Lernalgorithmen in Bibliotheken vor Ihnen versteckt wird.  \n",
    "\n",
    "* Wenn Sie wünschen, können Sie sich das PDF der Vorlesung in ILIAS herunterladen und noch einmal kurz die Folien nachschlagen, die das Perzeptron behandeln.\n",
    "\n",
    "Wir gehen in zwei Schritten vor:\n",
    "\n",
    "1. Wir implementieren das Perzeptron als Funktion.\n",
    "2. Wir implementieren den Perzeptron-Lern-Algorithmus (PLA)."
   ]
  },
  {
   "cell_type": "markdown",
   "metadata": {},
   "source": [
    "### 1.2.1 Perzeptron\n",
    "Sehen Sie sich noch einmal Folie 1-32ff an. Das Perzeptron $h(\\mathbf{x})$ ist definiert wie folgt:\n",
    "\n",
    "$$h(\\mathbf{x}) = \\text{sign}(\\mathbf{w}^T\\mathbf{x})$$\n",
    "\n",
    "mit Gewichten $w_i$ sowie mit der Vorzeichenfunktion $\\text{sign}(s)$, die das Vorzeichen (+1 oder -1) ihres Arguments ausgibt. Wir werden das Perzeptron in zwei Dimensionen ($d=2$) betrachten. Die Vektoren $\\mathbf{w}$ und $\\mathbf{x}$ habe ich Ihnen für diesen Fall noch einmal notiert:\n",
    "\n",
    "$$\\mathbf{w}\\in\\{(w_0, w_1, w_2)^T | w_0 \\in\\mathbb{R}, w_1 \\in\\mathbb{R}, w_2 \\in\\mathbb{R} \\}$$\n",
    "\n",
    "und\n",
    "\n",
    "$$\\mathbf{x}\\in\\{(x_0, x_1, x_2)^T | x_0 = 1, x_1 \\in\\mathbb{R}, x_2 \\in\\mathbb{R} \\}$$\n",
    "\n",
    "wobei $w_0$ die Rolle des Schwellwerts $b$ spielt. Wir hatten das Perzeptron im Kontext des Problems der Kreditgewährung kennengelernt, wo $\\mathbf{x}$ die Features (Eigenschaften) des Bankkunden sind, $w_i$ die Gewichtung dieser Eigenschaften und $h(\\mathbf{x})$ die finale Entscheidung über die Kreditvergabe. Die Aufgabe von PLA wird es sein, die Gewichte $w_i$ und den Schwellwert $b$ so zu verändern (bzw. zu \"lernen\"), dass die Entscheidungen ($h(\\mathbf{x})$) über den Kredit mit denen übereinstimmen, die die Bankangestellten getroffen haben (um einmal im \"Kreditvergabe\"-Beispiel zu bleiben)."
   ]
  },
  {
   "cell_type": "markdown",
   "metadata": {},
   "source": [
    "**Ihre Aufgaben:**\n",
    "\n",
    "* Implementieren Sie das Perzeptron als Funktion mit dem Namen `h`, die einen Featurevektor $x$ und einen Gewichtsvektor $w$ entgegennimmt und $h(\\mathbf{x})$ zurückgibt. Nutzen Sie die numpy Funktionen `dot` ([Dokumentation](https://docs.scipy.org/doc/numpy/reference/generated/numpy.dot.html)) und `sign` ([Dokumentation](https://docs.scipy.org/doc/numpy/reference/generated/numpy.sign.html))."
   ]
  },
  {
   "cell_type": "code",
   "execution_count": 26,
   "metadata": {},
   "outputs": [
    {
     "data": {
      "text/plain": [
       "-1"
      ]
     },
     "execution_count": 26,
     "metadata": {},
     "output_type": "execute_result"
    }
   ],
   "source": [
    "import numpy as np\n",
    "\n",
    "# Implementieren Sie hier das Perzeptron\n",
    "\n",
    "schwellenwert = -15 ;\n",
    "x = np.array([1, 2, 3]);\n",
    "w = np.array([schwellenwert, 2, 3]);\n",
    "\n",
    "def h(x, w):\n",
    "    return np.sign(np.dot(w.T, x));\n",
    "\n",
    "h(x, w)"
   ]
  },
  {
   "cell_type": "markdown",
   "metadata": {},
   "source": [
    "### 1.2.2 PLA Algorithmus\n",
    "\n",
    "* **Bevor Sie fortfahren,** hier noch ein Hinweis: Sollten Sie einmal aus Versehen eine Endlosschleife bauen und/oder Ihr Algorithmus terminiert nicht, dann wird das Schließen des Browserfensters den Rechenprozess (den Kernel) nicht stoppen. Er wird auf dem Server weiterlaufen. Stattdessen sollten Sie in diesem Fall den Kernel dieses *Jupyter Notebooks* stoppen durch das Menü `Kernel -> Interrupt` oder durch die Tastatur mit: `ESC` (Wechsel in den Command-Mode) und dann zweimal die Taste `i` drücken. Wenn Sie sich für weitere Informationen zu *Jupyter Notebook* interessieren, schauen Sie auch gerne in das Tutorial der Übung 1.1. \n",
    "* Vergessen Sie nicht, Ihr *Jupyter Notebook* ab und an zu speichern (mit der Tastenkombination `Strg` + `s`).\n",
    "\n",
    "Lesen Sie sich zunächst den Algorithmus durch.\n",
    "\n",
    "#### Der PLA Algorithmus\n",
    "\n",
    "* **Daten:** $(\\mathbf{x_i}, y_i)$ mit $i=1,\\ldots,N$. \n",
    "* **Annahme:** Die Daten sind linear separierbar, d.h. wir können die Daten mithilfe einer Geraden ($d=2$) oder Hyperebene ($d>2$) in ihre Klassen aufteilen.\n",
    "\n",
    "Sei $t=0,1,2,\\ldots$ der aktuelle Iterationsschritt und sei $\\mathbf{w}(t)$ der Vektor $\\mathbf{w}$ zum Iterationsschritt $t$. Setze $t=0$ und $\\mathbf{w}(0)=\\mathbf{0}$.\n",
    "\n",
    "1. Nutze das Perzeptron mit $\\mathbf{w}(t)$ und klassifiziere alle Daten $\\mathbf{x_i}, i=1,\\ldots,N$.\n",
    "2. Selektiere irgendein Paar $(\\mathbf{x}_j, y_j)$, das falsch klassifiziert wurde, und nenne es $(\\mathbf{x}(t), y(t))$. Wenn es kein solches Paar gibt, terminiere.\n",
    "3. Aktualisiere das Gewicht $\\mathbf{w}$ mit folgender Regel: $$\\mathbf{w}(t+1) = \\mathbf{w}(t)+y(t)\\mathbf{x}(t)$$\n",
    "4. Erhöhe $t$ um den Wert $1$ und kehre zu Schritt 1 zurück."
   ]
  },
  {
   "cell_type": "markdown",
   "metadata": {},
   "source": [
    "**Ihre Aufgaben**\n",
    "\n",
    "(1) Lesen Sie sich den Algorithmus durch. In welchem Fall terminiert der Algorithmus? *In welchem Fall terminiert der Algorithmus nicht?*"
   ]
  },
  {
   "cell_type": "markdown",
   "metadata": {},
   "source": [
    "Der Algorithmus terminiert nur, wenn kein Paar mehr falsch klassifiziert ist."
   ]
  },
  {
   "cell_type": "markdown",
   "metadata": {},
   "source": [
    "(2) In der unteren Code-Zelle finden Sie einen synthetischen Datensatz, an den wir ein Perzeptron mithilfe von PLA trainieren wollen. Führen Sie den unten stehenden Code aus und betrachten die dadurch entstehende Abbildung. Die Funktionen im Bereich \"Helper Functions\" sind für Sie nicht weiter relevant. Sie dienen nur der Erzeugung des Datensatzes."
   ]
  },
  {
   "cell_type": "code",
   "execution_count": 183,
   "metadata": {
    "collapsed": false,
    "jupyter": {
     "outputs_hidden": false
    },
    "pycharm": {
     "name": "#%%\n"
    }
   },
   "outputs": [
    {
     "data": {
      "text/plain": [
       "(0.0, 1.0, 0.0, 1.0)"
      ]
     },
     "execution_count": 183,
     "metadata": {},
     "output_type": "execute_result"
    },
    {
     "data": {
      "image/png": "[encoded data removed]",
      "text/plain": [
       "<Figure size 640x480 with 1 Axes>"
      ]
     },
     "metadata": {},
     "output_type": "display_data"
    }
   ],
   "source": [
    "%matplotlib inline\n",
    "import numpy as np\n",
    "from matplotlib import pyplot as plt\n",
    "\n",
    "\n",
    "# --------- START - Helper functions which are not important for you ---------\n",
    "\n",
    "def generate_points(N):\n",
    "    return np.random.rand(N, 2)\n",
    "\n",
    "\n",
    "def generate_decision_line():\n",
    "    g = generate_points(2)\n",
    "    m = (g[1, 1] - g[1, 0]) / (g[0, 1] - g[0, 0])\n",
    "    b = g[1, 0] - m * g[0, 0]\n",
    "\n",
    "    def getY(x):\n",
    "        return m * x + b\n",
    "\n",
    "    func = getY\n",
    "    return func\n",
    "\n",
    "\n",
    "# This function creates an \"unknown\" target function f.\n",
    "# f is then used to create labels y for points X.\n",
    "# X is a matrix containing N rows (the data points) of\n",
    "# with 2 dimensions (columns) each.\n",
    "def getClassedPoints(N):\n",
    "    #np.random.seed(5)\n",
    "    f = generate_decision_line()\n",
    "    X = generate_points(N)\n",
    "    y = np.array([1 if f(X[i, 0]) > X[i, 1] else -1\n",
    "                  for i in range(X.shape[0])])\n",
    "    return X, y, f\n",
    "\n",
    "\n",
    "# --------- END - Helper functions which are not important for you ---------\n",
    "\n",
    "# Obtain points X, labels y, and target function f.\n",
    "# Note that in real world problems, we do not know f.\n",
    "X, y, f = getClassedPoints(20)\n",
    "\n",
    "# Visualize data\n",
    "plt.scatter(X[:, 0], X[:, 1], c=y)  # plots the data points\n",
    "plt.plot(np.array([0, 1]), f(np.array([0, 1])))  # plots the target function\n",
    "plt.axis((0, 1, 0, 1))  # ensures that we see the relevant part of the feature space"
   ]
  },
  {
   "cell_type": "markdown",
   "metadata": {},
   "source": [
    "(3) Untersuchen Sie die Daten und beantworten Sie folgende Fragen: Wie viele Datenpunkte enthält der Datensatz? Wie viele Features besitzt jeder Datenpunkt?"
   ]
  },
  {
   "cell_type": "code",
   "execution_count": 53,
   "metadata": {},
   "outputs": [
    {
     "name": "stdout",
     "output_type": "stream",
     "text": [
      "Es existieren 20 Datenpunkte mit 2 Features.\n"
     ]
    }
   ],
   "source": [
    "print(\"Es existieren {} Datenpunkte mit {} Features.\".format(X.shape[0], X.shape[1]))"
   ]
  },
  {
   "cell_type": "markdown",
   "metadata": {},
   "source": [
    "(4) Nehmen Sie sich die Folien der heutigen Vorlesung zur Hand. Klären Sie für sich die Frage: Wie viele Einträge besitzt der Gewichtsvektor?"
   ]
  },
  {
   "cell_type": "markdown",
   "metadata": {},
   "source": [
    "So viele wie der Feature Vektor. n+1 wenn n die Anzahl der Features ist. "
   ]
  },
  {
   "cell_type": "markdown",
   "metadata": {},
   "source": [
    "(5) Implementieren Sie nun den Perzeptron-Lernalgorithmus (PLA) als Funktion mit dem Namen `pla`, die die Feature-Datenmatrix X (Nx2 Matrix), den Labelvektor $\\mathbf{y}$ sowie Gewichte $\\mathbf{w}(t)$ entgegennimmt und die finalen Gewichte $\\mathbf{w}_\\text{final}$ zurückgibt.\n",
    "\n",
    "*Hinweise:*\n",
    "* Die Funktion \"pla\" sollte sich selber rekursiv aufrufen, sofern ein Datenpunkt gefunden wurde, der durch das Perzeptron mit den aktuellen Gewichten $\\mathbf{w}(t)$ nicht korrekt klassifiziert wird.\n",
    "* Der Schwellwert ist im Gewichtsvektor $\\mathbf{w}$ als 0-te Komponente enthalten ($w_0$). Der korrespondierende Datenwert $x_0$ ist aber in den Featurevektoren nicht enthalten. Schreiben Sie Ihre Funktion \"pla\" so, dass sie dort jeden untersuchten Featurevektor um die 0-te Komponente erweitern, bevor Sie ihn Ihrer Funktion \"h\" übergeben. Sie können [`np.column_stack`](https://numpy.org/doc/stable/reference/generated/numpy.column_stack.html#numpy.column_stack) dafür verwenden."
   ]
  },
  {
   "cell_type": "code",
   "execution_count": 95,
   "metadata": {},
   "outputs": [
    {
     "name": "stdout",
     "output_type": "stream",
     "text": [
      "[[1.         0.48841119 0.61174386]\n",
      " [1.         0.76590786 0.51841799]\n",
      " [1.         0.2968005  0.18772123]\n",
      " [1.         0.08074127 0.7384403 ]\n",
      " [1.         0.44130922 0.15830987]\n",
      " [1.         0.87993703 0.27408646]\n",
      " [1.         0.41423502 0.29607993]\n",
      " [1.         0.62878791 0.57983781]\n",
      " [1.         0.5999292  0.26581912]\n",
      " [1.         0.28468588 0.25358821]\n",
      " [1.         0.32756395 0.1441643 ]\n",
      " [1.         0.16561286 0.96393053]\n",
      " [1.         0.96022672 0.18841466]\n",
      " [1.         0.02430656 0.20455555]\n",
      " [1.         0.69984361 0.77951459]\n",
      " [1.         0.02293309 0.57766286]\n",
      " [1.         0.00164217 0.51547261]\n",
      " [1.         0.63979518 0.9856244 ]\n",
      " [1.         0.2590976  0.80249689]\n",
      " [1.         0.87048309 0.92274961]]\n",
      "[-1  1  1 -1  1  1  1  1  1  1  1 -1  1 -1 -1 -1 -1 -1 -1 -1]\n"
     ]
    }
   ],
   "source": [
    "print(np.column_stack((np.ones(X.shape[0]), X)))\n",
    "print(y)"
   ]
  },
  {
   "cell_type": "code",
   "execution_count": 184,
   "metadata": {},
   "outputs": [
    {
     "name": "stdout",
     "output_type": "stream",
     "text": [
      "w = [0 0 0]\n",
      "w_final = [ 1.         -1.54013026 -0.83333593]\n",
      "w_final norm = [ 0.49589791 -0.76374739 -0.41324955]\n",
      "Erfolgreich\n"
     ]
    }
   ],
   "source": [
    "w=np.array([0, 0, 0])\n",
    "print(\"w =\", w);\n",
    "\n",
    "def pla(X, y, w):\n",
    "    for index, x in enumerate(np.column_stack((np.ones(X.shape[0]), X))):\n",
    "        # print(\"Yes\", h(x, w)) if (h(x, w) == y[index]) else print(\"No\", h(x, w))\n",
    "        if (h(x, w) != y[index]):\n",
    "            return pla(X, y, w + y[index]*x)\n",
    "            break\n",
    "    return w\n",
    "\n",
    "w = pla(X, y, w)\n",
    "print(\"w_final =\", w)\n",
    "print(\"w_final norm =\", 1/np.linalg.norm(w) * w)\n",
    "\n",
    "## Testen ob keins mehr falsch klassifiziert wird:\n",
    "def test_klassifizierung(X, w):\n",
    "    index = 0;\n",
    "    for x in np.column_stack((np.ones(X.shape[0]), X)):\n",
    "        if (h(x, w) != y[index]):\n",
    "            print(\"Fehler bei Index\", index, \" und x = \", x, \" h(x,w) =\", h(x, w))\n",
    "            return -1\n",
    "        index+=1\n",
    "    print(\"Erfolgreich\")\n",
    "        \n",
    "test_klassifizierung(X, w)\n",
    "#print(X.)"
   ]
  },
  {
   "cell_type": "markdown",
   "metadata": {},
   "source": [
    "(6) Implementieren Sie eine Funktion `p`, die Ihnen die Entscheidungsgerade berechnet, die durch die von Ihrem Perzeptron gelernten Gewichte definiert wird. Die Funktion `p` nimmt einen beliebigen Wert $x$ sowie den finalen Gewichtsvektor $\\mathbf{w}_\\text{final}$ entgegen und gibt die Funktion $p(x)$ der Entscheidungsgeraden zurück (mit dem $x$ in $p(x)$ sind **keine** Featurevektoren gemeint, sondern die x-Koordinaten in einem Plot). Schlagen Sie in der Vorlesung nach, um zu sehen, wie Sie `p` implementieren können."
   ]
  },
  {
   "cell_type": "markdown",
   "metadata": {},
   "source": [
    "(7) Wenden Sie den Ihren implementierten PLA Algorithmus auf die Daten $X$ und $y$ aus Schritt (2) an, die initialen Werte für $w$ können Sie dabei frei wählen. Visualisieren Sie dann die Daten $X$ sowie die Target Function $f$ und die vom Perzeptron gefundene Entscheidungsgerade $p$ in einem [Scatterplot](https://matplotlib.org/api/_as_gen/matplotlib.pyplot.scatter.html)."
   ]
  },
  {
   "cell_type": "code",
   "execution_count": 186,
   "metadata": {},
   "outputs": [
    {
     "data": {
      "text/plain": [
       "(0.0, 1.0, 0.0, 1.0)"
      ]
     },
     "execution_count": 186,
     "metadata": {},
     "output_type": "execute_result"
    },
    {
     "data": {
      "image/png": "[encoded data removed]",
      "text/plain": [
       "<Figure size 640x480 with 1 Axes>"
      ]
     },
     "metadata": {},
     "output_type": "display_data"
    }
   ],
   "source": [
    "def p(x, w_final):\n",
    "    m = - w_final[1] / w_final[2]\n",
    "    c = - w_final[0] / w_final[2]\n",
    "    return m * x + c\n",
    "\n",
    "plt.scatter(X[:, 0], X[:, 1], c=y)  # plots the data points\n",
    "plt.plot(np.array([0, 1]), p(np.array([0, 1]), w))  # plots the target function\n",
    "plt.axis((0, 1, 0, 1))  # ensures that we see the relevant part of the feature space"
   ]
  },
  {
   "cell_type": "markdown",
   "metadata": {
    "jp-MarkdownHeadingCollapsed": true
   },
   "source": [
    "## 1.3 \\[Optional\\] Schwertlilien "
   ]
  },
  {
   "cell_type": "markdown",
   "metadata": {
    "slideshow": {
     "slide_type": "slide"
    }
   },
   "source": [
    "* Diese Übung ist optional und wendet sich an diejenigen unter Ihnen, die in dieser Übungseinheit bereits die vorherigen Übungen abgeschlossen haben.\n",
    "\n",
    "In dieser Übung lernen wir einen klassischen Datensatz kennen, den *Schwertlilien*-Datensatz (englisch: *Iris* dataset). Er wurde in der ersten Hälfte des 19. Jahrhunderts von Edgar Anderson, einem amerikanischen Botaniker, erhoben. Der Datensatz enthält Daten zu Kronblättern (petal) und Kelchblättern (sepal) *dreier Schwertlilienarten* (Iris species). Ein Foto dieser Eigenschaften finden Sie hier:\n",
    "\n",
    "![Schwertlilien](https://data.bialonski.de/ml/schwertlilien.png)\n",
    "\n",
    "Weiter unten habe ich Ihnen einen Befehl aus der Python Bibliothek *scikit-learn* aufgeschrieben, mit dessen Hilfe Sie den Iris-Datensatz importieren. Der Iris-Datensatz enthält Eigenschaften (*features*) dreier Schwertlilienarten sowie Informationen, zu welcher Schwertlilienart (*labels*) jeweils ein Satz von *features* gehört. Es handelt sich also um einen Datensatz, \n",
    "\n",
    "Lassen sich die drei Schwertlilienarten anhand der erfassten Features unterscheiden? Dies wollen wir uns einmal anschauen.\n",
    "\n",
    "Wie bei jedem Machine Learning Projekt beginnen wir mit einer Untersuchung des Datensatzes. Untersuchen Sie den Datensatz, der sich im *data* Objekt befindet. Ermitteln Sie mit Code Antworten auf die folgenden Fragen:\n",
    "\n",
    "**Ihre Aufgaben**\n",
    "\n",
    "(1) Welche und wie viele Eigenschaften (*features*) enthält der Datensatz?"
   ]
  },
  {
   "cell_type": "code",
   "execution_count": null,
   "metadata": {
    "collapsed": false,
    "jupyter": {
     "outputs_hidden": false
    },
    "pycharm": {
     "name": "#%%\n"
    }
   },
   "outputs": [],
   "source": [
    "%matplotlib inline\n",
    "# Wir importieren zunächst numpy und Teile der Matplotlib. Die werden Sie noch später brauchen.\n",
    "import numpy as np\n",
    "from matplotlib import pyplot as plt\n",
    "\n",
    "# Und hier importieren wir den Schwertlilien-Datensatz.\n",
    "from sklearn.datasets import load_iris\n",
    "data = load_iris()\n",
    "print(data.keys())"
   ]
  },
  {
   "cell_type": "markdown",
   "metadata": {
    "slideshow": {
     "slide_type": "slide"
    }
   },
   "source": [
    "(2) Wie werden die drei Schwertlilienarten (*labels*) im Datensatz kodiert?"
   ]
  },
  {
   "cell_type": "markdown",
   "metadata": {
    "slideshow": {
     "slide_type": "slide"
    }
   },
   "source": [
    "(3) Wie viele Schwertlilien wurden vermessen? (Sie können z.B. die `.shape` Methode nutzen, um die Dimensionen von numpy-arrays zu ermitteln.)"
   ]
  },
  {
   "cell_type": "markdown",
   "metadata": {
    "slideshow": {
     "slide_type": "slide"
    }
   },
   "source": [
    "(4) Gewinnen Sie einen ersten Eindruck über die Verteilung der einzelnen Features: \n",
    "  * Erzeugen Sie für jedes Feature jeweils ein Histogram über alle Schwertlilien hinweg. (Sie können den `hist` Befehl in der Matplotlib dafür verwenden ([Dokumentation](https://matplotlib.org/api/_as_gen/matplotlib.pyplot.hist.html))).\n",
    "  * Fallen Ihnen Unterschiede zwischen den Histogrammen auf?"
   ]
  },
  {
   "cell_type": "markdown",
   "metadata": {
    "slideshow": {
     "slide_type": "slide"
    }
   },
   "source": [
    "(5) Wir haben bisher jedes Feature (Eigenschaft) einzeln betrachtet. Lassen Sie uns nun Paare von unterschiedlichen Features betrachten.\n",
    "  * Wie viele solcher Featurepaare gibt es?\n",
    "  * Erzeugen Sie für jedes dieser Featurepaare einen Scatterplot. Nutzen Sie dazu den `scatter` Befehl ([Dokumentation](https://matplotlib.org/api/_as_gen/matplotlib.pyplot.scatter.html)).\n",
    "  * Falls Sie dies noch nicht gemacht haben: Modifizieren Sie die Scatterplots so, dass die Farben der Punkte die Schwertlilienart kodiert (benutzen Sie dazu die Informationen \"target\" im Datensatz und verknüpfen diese mit dem `c=` Argument des scatter Befehls ([Dokumentation](https://matplotlib.org/api/_as_gen/matplotlib.pyplot.scatter.html))).\n",
    "  * Gibt es in den Scatterplots auffällige Muster? Haben Sie eine Idee, ob und wie sich manche Schwertlilienarten von anderen unterscheiden lassen?"
   ]
  },
  {
   "cell_type": "markdown",
   "metadata": {
    "slideshow": {
     "slide_type": "slide"
    }
   },
   "source": [
    "(6) Wählen Sie ein Featurepaar aus, mit dem Sie eine Schwertlilienart von den anderen beiden Arten mit einer Gerade (Perzeptron) unterscheiden können. Nutzen Sie Ihren Code aus der vorherigen Aufgabe, um auf diesem Featurepaar ein Perzeptron zu trainieren. Visualisieren Sie die Featureebene mitsamt der Daten des Featurepaares, das Sie ausgewählt haben, sowie der gefundenen Gerade des Perzeptrons."
   ]
  },
  {
   "cell_type": "markdown",
   "metadata": {
    "pycharm": {
     "name": "#%% md\n"
    },
    "slideshow": {
     "slide_type": "slide"
    }
   },
   "source": [
    "Damit darf ich Ihnen gratulieren. Sie haben das Perzeptron-Lernmodell genutzt, um eine Schwertlilienart von den anderen beiden automatisch anhand ihrer Features zu unterscheiden! :-)"
   ]
  }
 ],
 "metadata": {
  "hide_input": false,
  "kernelspec": {
   "display_name": "Python 3 (ipykernel)",
   "language": "python",
   "name": "python3"
  },
  "language_info": {
   "codemirror_mode": {
    "name": "ipython",
    "version": 3
   },
   "file_extension": ".py",
   "mimetype": "text/x-python",
   "name": "python",
   "nbconvert_exporter": "python",
   "pygments_lexer": "ipython3",
   "version": "3.11.4"
  }
 },
 "nbformat": 4,
 "nbformat_minor": 4
}
