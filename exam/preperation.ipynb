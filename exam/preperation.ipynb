{
 "cells": [
  {
   "cell_type": "code",
   "execution_count": 5,
   "outputs": [],
   "source": [
    "import numpy as np"
   ],
   "metadata": {
    "collapsed": false,
    "ExecuteTime": {
     "end_time": "2023-11-16T07:02:59.217652641Z",
     "start_time": "2023-11-16T07:02:59.095438702Z"
    }
   },
   "id": "62cfe9d00cbe1d68"
  },
  {
   "cell_type": "markdown",
   "source": [
    "Die Funktion $\\Phi_Q$ transformiert einen Featurevektor $X$ polynomiell in eine Monomenbasis der Ordnung $Q_f$. \n",
    "So wird aus $$\n",
    "\\begin{pmatrix}1\\\\2\\\\3\\end{pmatrix} \\mapsto \\begin{pmatrix}\n",
    "1 & 1^2 & \\dots & 1^{Q_f}\\\\\n",
    "2 & 2^2 & \\dots & 2^{Q_f}\\\\\n",
    "3 & 3^2 & \\dots & 3^{Q_f}\n",
    "\\end{pmatrix}\n",
    "$$"
   ],
   "metadata": {
    "collapsed": false
   },
   "id": "29cc1bb64af9ccae"
  },
  {
   "cell_type": "code",
   "execution_count": 23,
   "outputs": [],
   "source": [
    "def phi(X, Q):\n",
    "    # X_reshaped notwendig, da die Daten in der Form (m,1) vorliegen und nicht in der Form (m,). \n",
    "    X_reshaped = X\n",
    "    print(X_reshaped)\n",
    "    return np.array([X_reshaped**i for i in range(1, Q+1)])\n"
   ],
   "metadata": {
    "collapsed": false,
    "ExecuteTime": {
     "end_time": "2023-11-16T07:20:51.781705590Z",
     "start_time": "2023-11-16T07:20:51.779142108Z"
    }
   },
   "id": "initial_id"
  },
  {
   "cell_type": "code",
   "execution_count": 24,
   "outputs": [
    {
     "name": "stdout",
     "output_type": "stream",
     "text": [
      "[[1]\n",
      " [2]\n",
      " [3]]\n",
      "[[1]\n",
      " [2]\n",
      " [3]]\n"
     ]
    },
    {
     "data": {
      "text/plain": "array([[[  1],\n        [  2],\n        [  3]],\n\n       [[  1],\n        [  4],\n        [  9]],\n\n       [[  1],\n        [  8],\n        [ 27]],\n\n       [[  1],\n        [ 16],\n        [ 81]],\n\n       [[  1],\n        [ 32],\n        [243]]])"
     },
     "execution_count": 24,
     "metadata": {},
     "output_type": "execute_result"
    }
   ],
   "source": [
    "X = np.array([[1], [2], [3]])\n",
    "print(X)\n",
    "phi(X, 5)"
   ],
   "metadata": {
    "collapsed": false,
    "ExecuteTime": {
     "end_time": "2023-11-16T07:20:53.327393651Z",
     "start_time": "2023-11-16T07:20:53.322173245Z"
    }
   },
   "id": "50c0e7e5db5c34d7"
  }
 ],
 "metadata": {
  "kernelspec": {
   "display_name": "Python 3",
   "language": "python",
   "name": "python3"
  },
  "language_info": {
   "codemirror_mode": {
    "name": "ipython",
    "version": 2
   },
   "file_extension": ".py",
   "mimetype": "text/x-python",
   "name": "python",
   "nbconvert_exporter": "python",
   "pygments_lexer": "ipython2",
   "version": "2.7.6"
  }
 },
 "nbformat": 4,
 "nbformat_minor": 5
}
