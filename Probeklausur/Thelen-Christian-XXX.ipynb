{
 "cells": [
  {
   "cell_type": "markdown",
   "metadata": {},
   "source": [
    "# Probeklausur \"Machine Learning\"\n",
    "### FH Aachen - University of Applied Sciences"
   ]
  },
  {
   "cell_type": "markdown",
   "metadata": {
    "name_matrikelnummer": 0
   },
   "source": [
    "## Name und Matrikelnummer\n",
    "\n",
    "- Ihr Vor- und Nachname: Christian Rene Thelen\n",
    "- Ihre Matrikelnummer: (bitte hier ausfüllen)"
   ]
  },
  {
   "cell_type": "markdown",
   "metadata": {},
   "source": [
    "## Wie Sie die Probeklausur bearbeiten\n",
    "\n"
   ]
  },
  {
   "cell_type": "markdown",
   "metadata": {
    "collapsed": false
   },
   "source": [
    "1. **Namen und Matrikelnummer eintragen.** Tragen Sie oben Ihren Namen sowie Ihre Matrikelnummer ein, indem Sie die Platzhalter \"(bitte ausfüllen)\" mit Ihren Angaben ersetzen.\n",
    "\n",
    "2. **Notebook umbenennen.** Benennen Sie dieses Jupyter Notebook nach folgendem Schema um: `Nachname-Vorname-Matrikelnummer`, wobei Sie für die Platzhalter entsprechend Ihren Namen und Ihre Matrikelnummer eintragen. Sie können das Notebook umbenennen, indem Sie auf `File>Rename` klicken und dann den neuen Namen des Jupyter Notebooks eintragen, oder indem Sie oben auf den alten Namen dieses Notebooks klicken und dort den neuen Namen eintragen. Speichern Sie Ihr Notebook nach der Umbenennung (Shortkey `Strg+s` oder auf das Speichern-Symbol (Diskette) oben klicken).\n",
    "\n",
    "3. **Klausur bearbeiten.** *Die Bearbeitungszeit der Probeklausur beträgt 20 Minuten. Die richtige Klausur dauert 75 Minuten.* Achten Sie auf die Bearbeitungszeit! Nach Ablauf der Zeit haben Sie bei der richtigen Klausur noch ein Zeitfenster von 5 Minuten, innerhalb dessen Sie die Klausur einreichen müssen. Sie finden direkt unter diesem Satz eine Anleitung (\"Klausurabgabe. Dies müssen Sie tun.\"), wie Sie Ihre Klausur abgeben werden."
   ]
  },
  {
   "cell_type": "markdown",
   "metadata": {
    "collapsed": false
   },
   "source": [
    "## Klausurabgabe. Dies müssen Sie tun:"
   ]
  },
  {
   "cell_type": "markdown",
   "metadata": {
    "collapsed": false
   },
   "source": [
    "1. Sie reichen Ihre Probeklausur **nicht ein**.\n",
    "\n",
    "2. **Bearbeitungen abspeichern.** Das Wichtigste zuerst: Speichern Sie Ihre Bearbeitungen (Shortkey `Strg+s` oder auf das Speichern-Symbol (Diskette) klicken).\n",
    "\n",
    "3. **Jupyter Notebook Datei abspeichern.** Speichern Sie Ihre Jupyter Notebook als Datei (im Folgenden \"Klausur\" genannt) lokal auf Ihrem Rechner ab. (`File > Download as > Notebook (.ipynb)`).\n",
    "\n",
    "4. Wenn dies eine richtige Klausur wäre, würden Sie nun die Klausur einreichen."
   ]
  },
  {
   "cell_type": "markdown",
   "metadata": {},
   "source": [
    "## Probeklausuraufgaben"
   ]
  },
  {
   "cell_type": "markdown",
   "metadata": {},
   "source": [
    "### Hinweise\n",
    "\n",
    "(1) **Überblick verschaffen.** Wie viele Punkte können Sie bei welchen Aufgaben erzielen?\n",
    "\n",
    "(2) **Sie müssen die Klausur persönlich und ohne fremde Hilfe bearbeiten.**\n",
    "\n",
    "(3) **Dies ist eine Kofferklausur**. Sie dürfen erlaubte Hilfsmittel nutzen.\n",
    "\n",
    "(4) Führen Sie die unten stehende Codezelle aus, um die Größe der von Ihnen zu erstellenden Abbildungen zu konfigurieren."
   ]
  },
  {
   "cell_type": "code",
   "execution_count": 1,
   "metadata": {},
   "outputs": [],
   "source": [
    "import matplotlib.pyplot as plt\n",
    "%matplotlib inline\n",
    "plt.rcParams[\"figure.figsize\"] = [10, 7]"
   ]
  },
  {
   "cell_type": "markdown",
   "metadata": {
    "exercise": "1"
   },
   "source": [
    "### Aufgabe: Spaziergang\n",
    "\n",
    "#### <span style=\"color:red\">Erreichbare Punktzahl: 20</span>\n",
    "\n",
    "Ein Freundeskreis von Studierenden wandert gerne. Sie haben sich in der Vergangenheit notiert, welche Wetterbedingungen bei ihren Wanderungen herrschten:\n",
    "\n",
    "![Decision Tree Table](https://data.bialonski.de/ml/table-decision-tree-exercise.png)\n",
    "\n",
    "Eine Studentin möchte einen Entscheidungsbaum aufbauen, um besser zu verstehen, unter welchen Bedingungen die Gruppe wandert. Wir werden uns hier auf den ersten Schnitt im entstehenden Entscheidungsbaum beschränken."
   ]
  },
  {
   "cell_type": "markdown",
   "metadata": {},
   "source": [
    "**Ihre Aufgaben:**\n",
    "\n",
    "(1) Geben Sie in Worten wider, wie der Information Gain definiert ist. <span style=\"color:red;font-weight:bold\">\\[ /4\\] Punkte</span>"
   ]
  },
  {
   "cell_type": "markdown",
   "metadata": {},
   "source": [
    "<div style=\"color:green;font-weight:bold\">\n",
    "Ihre Antwort\n",
    "\n",
    "Als **Information Gain** (oder auch Mutual Information) wird die Abnahme des mittleren Informationsgehalts eines Ergebnisses der Zufallsvariablen $X$ durch Kenntnis des Ergebnisses einer Zufallsvariablen $Y$ genannt. \n",
    "$$\n",
    "\t\\text{IG}(X, Y) = H(X) - H(X|Y)\n",
    "$$\n",
    "</div>"
   ]
  },
  {
   "cell_type": "markdown",
   "metadata": {},
   "source": [
    "(2) Bestimmen Sie die Entropie für \"Wandern gehen\" (und geben Sie ihren Wert hier an). <span style=\"color:red;font-weight:bold\">\\[ /4\\] Punkte</span>"
   ]
  },
  {
   "cell_type": "markdown",
   "metadata": {},
   "source": [
    "Die **Entropie** $H(X)$ ist der mittlere Informationsgehalt eines Ereignisses (Ausgangs) eines Zufallsexperiments mit Zufallsvariable $X$. \n",
    "$$\n",
    "\tH(X) = E(I) = -\\sum_{k=1}^C p_k \\log_2 (p_k)\n",
    "$$\n",
    "Auch bekannt unter den Namen Shannon-Entropie (Informatik) oder Gibbs-Bolzmann Entropie (Physik)."
   ]
  },
  {
   "cell_type": "code",
   "execution_count": 6,
   "metadata": {},
   "outputs": [
    {
     "data": {
      "text/plain": [
       "0.9709505944546686"
      ]
     },
     "execution_count": 6,
     "metadata": {},
     "output_type": "execute_result"
    }
   ],
   "source": [
    "import math\n",
    "def calc_entropy(probabilities: list[float]) -> float:\n",
    "    entropy: float = 0.0\n",
    "    for p in probabilities:\n",
    "        entropy -= p * math.log(p, 2)\n",
    "    return entropy \n",
    "\n",
    "calc_entropy([(2/5), (3/5)])"
   ]
  },
  {
   "cell_type": "markdown",
   "metadata": {},
   "source": [
    "<p style=\"color:green;font-weight:bold\">\n",
    "Ihre Antwort: 0.9709505944546686\n",
    "</p>"
   ]
  },
  {
   "cell_type": "markdown",
   "metadata": {},
   "source": [
    "(3) Bestimmen Sie die bedingten Entropien für \"Wandern gehen\" bezüglich der Features und geben Sie die Werte, die Sie erhalten haben, an. <span style=\"color:red;font-weight:bold\">\\[ /4\\] Punkte</span>"
   ]
  },
  {
   "cell_type": "markdown",
   "metadata": {},
   "source": [
    "Entropie von $X$ unter der Bedingung des Auftretens eines Wertes $y_j$\n",
    "$$\n",
    "\tH(X|Y=y_j) = -\\sum_i p(x_i|y_j)\\cdot \\log_2 p(x_i|y_i)\n",
    "$$\n",
    "\n",
    "Die **bedingte Entropie** $H(X|Y)$ ist der mittlere Informationsgehalt eines Ergebnisses einer Zufallsvariablen $X$ unter der Bedingung, dass der Wert einer Zufallsvariablen $Y$ bekannt ist. \n",
    "$$\\begin{aligned}\n",
    "\tH(X|Y) &= \\sum_j p(y_j) \\cdot H(X|Y=y_j) \\\\\n",
    "\t&= - \\sum_j p(y_j)\\cdot \\left( \\sum_i p(x_i|y_i)\\cdot\\log_2 \\left( p(x_i|y_j) \\right) \\right) \\\\\n",
    "\t&= - \\sum_{i, j} p(x_i, y_j) \\log_2 \\frac{p(x_i, y_j)}{p(y_j)}\n",
    "\\end{aligned}$$\n"
   ]
  },
  {
   "cell_type": "code",
   "execution_count": null,
   "metadata": {},
   "outputs": [],
   "source": [
    "import math\n",
    "def calc_dependent_entropy(probabilities: list[float]) -> float:\n",
    "    entropy: float = 0.0\n",
    "    for p in probabilities:\n",
    "        entropy -= p * math.log(p, 2)\n",
    "    return entropy \n",
    "\n",
    "calc_entropy([(2/5), (3/5)])"
   ]
  },
  {
   "cell_type": "markdown",
   "metadata": {},
   "source": [
    "<p style=\"color:green;font-weight:bold\">\n",
    "Ihre Antwort\n",
    "</p>"
   ]
  },
  {
   "cell_type": "markdown",
   "metadata": {},
   "source": [
    "(4) Bestimmen Sie den Information Gain für jedes Feature und geben Sie die Werte hier an. <span style=\"color:red;font-weight:bold\">\\[ /4\\] Punkte</span>"
   ]
  },
  {
   "cell_type": "markdown",
   "metadata": {},
   "source": [
    "<p style=\"color:green;font-weight:bold\">\n",
    "Ihre Antwort\n",
    "</p>"
   ]
  },
  {
   "cell_type": "markdown",
   "metadata": {},
   "source": [
    "(5) Basierend auf Ihrer Beobachtung in Schritt (4): Welches Feature wird für eine Teilung in zwei Äste benutzt? <span style=\"color:red;font-weight:bold\">\\[ /4\\] Punkte</span>"
   ]
  },
  {
   "cell_type": "markdown",
   "metadata": {},
   "source": [
    "<p style=\"color:green;font-weight:bold\">\n",
    "Ihre Antwort\n",
    "</p>"
   ]
  },
  {
   "cell_type": "markdown",
   "metadata": {
    "exercise": "2"
   },
   "source": [
    "### Aufgabe: Weinverkostung\n",
    "\n",
    "#### <span style=\"color:red\">Erreichbare Punktzahl: 30</span>\n",
    "\n",
    "Die Weine dreier italienischer Landwirte wurden auf ihre chemische Zusammensetzung hin untersucht. Dabei entstand in den 80er Jahren ein Datensatz, der zu den Klassikern im Machine Learning zählt. Sie werden diesen Datensatz untersuchen und mit dem k-nächste-Nachbarn Modell anhand der chemischen Zusammensetzung (Features) vorhersagen, von welchem der drei Landwirte (Labels) der Wein stammt. Dabei werden wir auch der Skalierung der Features Beachtung schenken."
   ]
  },
  {
   "cell_type": "code",
   "execution_count": 2,
   "metadata": {},
   "outputs": [],
   "source": [
    "import numpy as np\n",
    "from matplotlib import pyplot as plt\n",
    "%matplotlib inline\n",
    "### Obtaining the wine data set from the data UCI repository ###\n",
    "\n",
    "# feature names\n",
    "feature_names = ['Alcohol', 'Malic acid', 'Ash', 'Alcalinity of ash',\n",
    "                 'Magnesium', 'Total phenols', 'Flavanoids', 'Nonflavanoid phenols',\n",
    "                 'Proanthocyanins', 'Color intensity', 'Hue',\n",
    "                 'OD280/OD315 of diluted wines', 'Proline']\n",
    "\n",
    "data = np.genfromtxt('http://archive.ics.uci.edu/ml/machine-learning-databases/wine/wine.data',\n",
    "                     delimiter=',')\n",
    "\n",
    "X_wine, y_wine = data[:, 1:], data[:, 0]"
   ]
  },
  {
   "cell_type": "markdown",
   "metadata": {},
   "source": [
    "**Ihre Aufgaben**\n",
    "\n",
    "(1) Untersuchen Sie den Datensatz: <span style=\"color:red;font-weight:bold\">\\[ /4\\] Punkte</span>\n",
    "\n",
    "- Nennen Sie die Anzahl der Datenpunkte (Featurevektoren). (2 Punkte).\n",
    "- Nennen Sie die Anzahl der Features (2 Punkte)."
   ]
  },
  {
   "cell_type": "code",
   "execution_count": 3,
   "metadata": {},
   "outputs": [
    {
     "name": "stdout",
     "output_type": "stream",
     "text": [
      "Der Datensatz enthält 178 Datenpunkte mit je 13 Features.\n"
     ]
    }
   ],
   "source": [
    "# Ihr Code\n",
    "print(f\"Der Datensatz enthält {X_wine.shape[0]} Datenpunkte mit je {X_wine.shape[1]} Features.\")"
   ]
  },
  {
   "cell_type": "markdown",
   "metadata": {},
   "source": [
    "<p style=\"color:green;font-weight:bold\">\n",
    "Anzahl Features: 13<br>\n",
    "Anzahl Featurevektoren: 178\n",
    "</p>"
   ]
  },
  {
   "cell_type": "markdown",
   "metadata": {},
   "source": [
    "(2) Untersuchen Sie die Verteilungen der Features, indem Sie Histogramme für ausgewählte Features visualisieren (3 Punkte). Was fällt Ihnen auf, wenn Sie die Verteilungen verschiedener Features miteinander vergleichen (1-3 Sätze; 3 Punkte)? <span style=\"color:red;font-weight:bold\">\\[ /6\\] Punkte</span>"
   ]
  },
  {
   "cell_type": "code",
   "execution_count": 5,
   "metadata": {},
   "outputs": [
    {
     "data": {
      "image/png": "[encoded data removed]",
      "text/plain": [
       "<Figure size 1000x700 with 1 Axes>"
      ]
     },
     "metadata": {},
     "output_type": "display_data"
    },
    {
     "data": {
      "image/png": "[encoded data removed]",
      "text/plain": [
       "<Figure size 1000x700 with 1 Axes>"
      ]
     },
     "metadata": {},
     "output_type": "display_data"
    },
    {
     "data": {
      "image/png": "[encoded data removed]",
      "text/plain": [
       "<Figure size 1000x700 with 1 Axes>"
      ]
     },
     "metadata": {},
     "output_type": "display_data"
    }
   ],
   "source": [
    "# Ihr Code\n",
    "plt.hist(X_wine[:, 0])\n",
    "plt.show()\n",
    "plt.hist(X_wine[:, 1])\n",
    "plt.show()\n",
    "plt.hist(X_wine[:, 2])\n",
    "plt.show()\n"
   ]
  },
  {
   "cell_type": "markdown",
   "metadata": {},
   "source": [
    "<p style=\"color:green;font-weight:bold\">\n",
    "Ihre Antwort: Die Daten sind nicht normiert.\n",
    "</p>"
   ]
  },
  {
   "cell_type": "markdown",
   "metadata": {},
   "source": [
    "(3) Wir werden einen kNN-Klassifikator nutzen, um die Daten zu fitten. Dabei werden wir den euklidischen Abstand als Distanzmaß wählen. Was erwarten Sie aufgrund Ihrer Beobachtung aus (2) und der Nutzung des euklidischen Abstands (1-3 Sätze)? <span style=\"color:red;font-weight:bold\">\\[ /5\\] Punkte</span>"
   ]
  },
  {
   "cell_type": "markdown",
   "metadata": {},
   "source": [
    "<p style=\"color:green;font-weight:bold\">\n",
    "Ihre Antwort: Eine übermäßige/überproportionale Beeinflussung durch Features, welche in einem größeren Bereich liegen.\n",
    "</p>"
   ]
  },
  {
   "cell_type": "markdown",
   "metadata": {},
   "source": [
    "(4) Erstellen Sie aus den Daten ein Trainingsset (90% der Daten) und ein Testset (10% der Daten). <span style=\"color:red;font-weight:bold\">\\[ /5\\] Punkte</span>\n",
    "\n",
    "- Importieren Sie einen geeigneten Befehl aus der *scikit-learn* Bibliothek, um die Aufteilung durchzuführen. (2 Punkte).\n",
    "- Die Variablennamen des Trainingssets heißen `X_train, y_train`, die des Testsets `X_test, y_test`. (2 Punkte)\n",
    "- Nutzen Sie als Random Seed für die Aufteilung `random_state=42`. (1 Punkt)"
   ]
  },
  {
   "cell_type": "code",
   "execution_count": 6,
   "metadata": {},
   "outputs": [],
   "source": [
    "# Ihr Code\n",
    "from sklearn.model_selection import train_test_split\n",
    "X_train, X_test, y_train, y_test = train_test_split(X_wine, y_wine, train_size=0.9, random_state=42)"
   ]
  },
  {
   "cell_type": "markdown",
   "metadata": {
    "collapsed": false
   },
   "source": [
    "(5) Trainieren Sie auf den Trainingsdaten einen kNN-Klassifikator ($k=5$): <span style=\"color:red;font-weight:bold\">\\[ /5\\] Punkte</span>\n",
    "\n",
    "1. Importieren Sie einen entsprechenden Befehl aus *scikit-learn* (1 Punkt)\n",
    "2. Trainieren Sie einen kNN-Klassifikator ($k=5$). (1 Punkt)\n",
    "3. **Ermitteln und nennen** Sie die Genauigkeit (*Accuracy*) Ihres trainierten Modells auf den **Trainingsdaten**. (3 Punkte)"
   ]
  },
  {
   "cell_type": "code",
   "execution_count": 12,
   "metadata": {},
   "outputs": [
    {
     "data": {
      "text/plain": [
       "0.76875"
      ]
     },
     "execution_count": 12,
     "metadata": {},
     "output_type": "execute_result"
    }
   ],
   "source": [
    "from sklearn.pipeline import make_pipeline\n",
    "from sklearn.preprocessing import StandardScaler\n",
    "from sklearn.neighbors import KNeighborsClassifier\n",
    "pipe = make_pipeline(\n",
    "    KNeighborsClassifier(n_neighbors=5).fit(X_train, y_train)\n",
    ")\n",
    "pipe.fit(X_train, y_train)\n",
    "pipe.score(X_train, y_train)"
   ]
  },
  {
   "cell_type": "markdown",
   "metadata": {},
   "source": [
    "<p style=\"color:green;font-weight:bold\">\n",
    "Ihre Antwort: 76,8%\n",
    "</p>"
   ]
  },
  {
   "cell_type": "markdown",
   "metadata": {},
   "source": [
    "(6) Skalieren Sie nun die Daten und wiederholen Sie das Training aus Schritt (5): <span style=\"color:red;font-weight:bold\">\\[ /5\\] Punkte</span>\n",
    "\n",
    "1. Skalieren Sie Trainingsdaten, sodass der Mittelwert der Features $0$ beträgt und die Varianz $1$ (2 Punkte)\n",
    "2. Wiederholen Sie das Training des kNN-Klassifikators ($k=5$) mit den skalierten Daten und **nennen** Sie die Genauigkeit (*Accuracy*) des neuen Modells. (1 Punkt)\n",
    "3. Erklären Sie wie es zu der Veränderung der Genauigkeit im Vergleich zu Ihrem Ergebnis in Schritt (5) kommt (1-3 Sätze; 2 Punkte)."
   ]
  },
  {
   "cell_type": "code",
   "execution_count": 14,
   "metadata": {},
   "outputs": [
    {
     "data": {
      "text/plain": [
       "0.9875"
      ]
     },
     "execution_count": 14,
     "metadata": {},
     "output_type": "execute_result"
    }
   ],
   "source": [
    "# Ihr Code\n",
    "pipe = make_pipeline(\n",
    "    StandardScaler(), \n",
    "    KNeighborsClassifier(n_neighbors=5).fit(X_train, y_train)\n",
    ")\n",
    "pipe.fit(X_train, y_train)\n",
    "pipe.score(X_train, y_train)"
   ]
  },
  {
   "cell_type": "markdown",
   "metadata": {},
   "source": [
    "<p style=\"color:green;font-weight:bold\">\n",
    "Genauigkeit: 98,75 %<br>\n",
    "Ihre Erklärung: Durch die Normierung und Standartisierung ist jeder Featurevektor gleichmäßig ausschlaggebend für das Training und es findet kein Overfitting auf Features statt, welche in einer höheren Größenordnung liegen. \n",
    "</p>"
   ]
  }
 ],
 "metadata": {
  "hide_input": false,
  "kernelspec": {
   "display_name": "Python 3",
   "language": "python",
   "name": "python3"
  },
  "language_info": {
   "codemirror_mode": {
    "name": "ipython",
    "version": 3
   },
   "file_extension": ".py",
   "mimetype": "text/x-python",
   "name": "python",
   "nbconvert_exporter": "python",
   "pygments_lexer": "ipython3",
   "version": "3.11.6"
  },
  "learntools_metadata": {
   "lesson_index": 0,
   "type": "exercise"
  }
 },
 "nbformat": 4,
 "nbformat_minor": 1
}
