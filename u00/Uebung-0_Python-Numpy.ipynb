{
 "cells": [
  {
   "cell_type": "markdown",
   "metadata": {},
   "source": [
    "# Praktikumsvorbereitung - Python und Numpy"
   ]
  },
  {
   "cell_type": "markdown",
   "metadata": {},
   "source": [
    "In der Sprache Python werden Sie im Praktikum programmieren und werden dabei häufig auf die Bibliothek Numpy zurückgreifen. Es gibt vier Numpy-Themen, die Ihre Vorgänger in diesem Kurs zu Beginn meist als anspruchsvoll empfunden haben. Es handelt sich um \n",
    "\n",
    "1. Reshaping\n",
    "2. Broadcasting\n",
    "3. Advanced Indexing und\n",
    "4. Vektor-/Matrizen-Multiplikation.\n",
    "\n",
    "Aufgabe dieser Übung ist es, Sie gezielt auf diese Aspekte der Bibliothek Numpy hinzuweisen, etwaige Wissenslücken bei Ihnen aufzudecken und Ihnen den Start in diesen Kurs deutlich zu vereinfachen. \n",
    "\n",
    "**Wenn Sie Python noch nicht kennen sollten:**\n",
    "\n",
    "Fokussieren Sie sich auf **Datentypen** (Lists, Dictionaries, Tuples) und **Kontrollstrukturen** (For-Schleifen) sowie auf **List-Comprehensions**:\n",
    "\n",
    "1. Absolvieren Sie bitte den kostenlosen Kurs [Introduction to Python](https://www.datacamp.com/courses/intro-to-python-for-data-science) der Lernplattform Datacamp. Dieser Kurs dauert etwa 4 Stunden und führt Sie an die wichtigsten Grundkonzepte von Python und Numpy heran.\n",
    "\n",
    "   - Wenn Sie Bücher statt interaktive Kurse bevorzugen, empfehle ich Ihnen das Buch \"Schnellstart Python\", welches Sie im Netz der FH Aachen [als PDF herunterladen](https://link.springer.com/book/10.1007%2F978-3-658-26133-7) können.\n",
    "\n",
    "2. Schauen Sie in die \"Lerngruppe Python\", die im ILIAS-Kurs dieser Veranstaltung verlinkt ist und wo ich Ihnen weitere Lernressourcen aufliste. Ich lade Sie herzlich ein, weitere dort genannte Kurse zu belegen.\n",
    "\n",
    "3. Fahren Sie anschließend mit den eigentlichen Aufgaben dieser Übung weiter unten fort."
   ]
  },
  {
   "cell_type": "markdown",
   "metadata": {},
   "source": [
    "**Wenn Sie Python schon kennen:**\n",
    "\n",
    "- Fahren Sie direkt mit den eigentlichen Aufgaben dieser Übung weiter unten fort.\n"
   ]
  },
  {
   "cell_type": "markdown",
   "metadata": {},
   "source": [
    "## Überblick"
   ]
  },
  {
   "cell_type": "markdown",
   "metadata": {},
   "source": [
    "Numpy ist eine Python-Bibliothek, die eine effiziente Ausführung von mathematischen Operationen erlaubt. Sie werden im weiteren Verlauf der Veranstaltung Numpy dafür einsetzen, um Matrix-Vektor-Operationen, die Sie z.B. aus der linearen Algebra kennen, umzusetzen.\n",
    "\n",
    "Die folgenden Übungsaufgaben werden Sie gezielt mit genau den Themen vertraut machen, die Ihren Vorgängerinnen und Vorgängern als Herausforderung empfunden haben: Reshaping, Broadcasting, Advanced Indexing und Vektor-/Matrizen-Multiplikation."
   ]
  },
  {
   "cell_type": "markdown",
   "metadata": {},
   "source": [
    "## 1 Shapes und Co.\n",
    "\n",
    "Das Verständnis von *Shapes* solcher Arrays ist eine wichtige Voraussetzung für eine produktive Arbeit mit diesen Datenstrukturen.\n",
    "\n",
    "Lesen Sie [diesen Buchabschnitt](https://jakevdp.github.io/PythonDataScienceHandbook/02.02-the-basics-of-numpy-arrays.html) durch, um mit wichtigen Eigenschaften von Numpy Arrays vertraut zu werden. Bearbeiten Sie dann die nachfolgenden Aufgaben.\n",
    "\n",
    "**Ihre Aufgaben**\n",
    "\n",
    "(1) Betrachten Sie den untenstehenden Code. Beantworten Sie: Welchen [Shape](https://docs.scipy.org/doc/numpy/reference/generated/numpy.ndarray.shape.html) hat das Numpy Array `a`? (Dies ist wichtig: Sie werden mit dem Shape-Befehl oft arbeiten.)"
   ]
  },
  {
   "cell_type": "code",
   "execution_count": 1,
   "metadata": {},
   "outputs": [],
   "source": [
    "import numpy as np\n",
    "a = np.array([5, 10, 15, 20])"
   ]
  },
  {
   "cell_type": "code",
   "execution_count": 2,
   "metadata": {},
   "outputs": [
    {
     "name": "stdout",
     "output_type": "stream",
     "text": [
      "Das Array `a` hat den Shape (4,)\n"
     ]
    }
   ],
   "source": [
    "print(\"Das Array `a` hat den Shape\", a.shape)"
   ]
  },
  {
   "cell_type": "markdown",
   "metadata": {},
   "source": [
    "(2) Lässt sich das Array `a` als (mathematischen) Vektor interpretieren? Wenn `a` ein Vektor ist, können Sie ihn [transponieren](https://docs.scipy.org/doc/numpy/reference/generated/numpy.ndarray.T.html)?"
   ]
  },
  {
   "cell_type": "code",
   "execution_count": 3,
   "metadata": {},
   "outputs": [
    {
     "name": "stdout",
     "output_type": "stream",
     "text": [
      "[[ 5]\n",
      " [10]\n",
      " [15]\n",
      " [20]]\n"
     ]
    }
   ],
   "source": [
    "print(a.reshape(1,4).T)"
   ]
  },
  {
   "cell_type": "markdown",
   "metadata": {},
   "source": [
    "Das Array lässt sich transponieren, wenn man es um eine Dimension erweitert."
   ]
  },
  {
   "cell_type": "markdown",
   "metadata": {},
   "source": [
    "**Hinweis ([rot13](http://www.rot13.de)-kodiert):** Fvr xöaara qnf Neenl n avpug genafcbavrera, jrvy rf ahe rvar Qvzrafvba orfvgmg: Rf ung qra Funcr (4,). Vuz sruyg rvar mjrvgr Qvzrafvba, hz nyf Fcnygra- omj. Mrvyrairxgbe vagrecergvreg jreqra mh xöaara. Cebovrera Fvr rf nhf: n.G.funcr vfg qnffryor jvr n.funcr."
   ]
  },
  {
   "cell_type": "markdown",
   "metadata": {},
   "source": [
    "(3) Betrachten Sie das unten stehende Array `b`. Erzeugen Sie aus `b` bitte zwei neue Arrays `c` und `d`: `c` soll ein Spaltenvektor sein, und `d` soll ein Zeilenvektor sein. Wie gehen Sie vor?"
   ]
  },
  {
   "cell_type": "code",
   "execution_count": 4,
   "metadata": {},
   "outputs": [],
   "source": [
    "b = np.array([2, 4, 6, 8, 10])"
   ]
  },
  {
   "cell_type": "code",
   "execution_count": 5,
   "metadata": {},
   "outputs": [
    {
     "name": "stdout",
     "output_type": "stream",
     "text": [
      "[ 2  4  6  8 10]\n",
      "c = [[ 2]\n",
      " [ 4]\n",
      " [ 6]\n",
      " [ 8]\n",
      " [10]] \n",
      "d = [[ 2  4  6  8 10]]\n",
      "\n",
      "Oder mit newaxis:\n",
      "[[ 2]\n",
      " [ 4]\n",
      " [ 6]\n",
      " [ 8]\n",
      " [10]] und [[ 2  4  6  8 10]]\n"
     ]
    }
   ],
   "source": [
    "print(b)\n",
    "c = b.reshape(5, 1)\n",
    "d = b.reshape(1, 5)\n",
    "print(\"c =\", c, \"\\nd =\", d)\n",
    "print(\"\\nOder mit newaxis:\")\n",
    "print(b[:, np.newaxis], \"und\", b[np.newaxis, :])"
   ]
  },
  {
   "cell_type": "markdown",
   "metadata": {},
   "source": [
    "**Hinweis (rot13-kodiert):** Rf tvog irefpuvrqrar Jrtr, hz qvrf mh reervpura. Rva ordhrzre Jrt vfg qvr Neorvg zvg ac.arjnkvf. Qnmh svaqra Fvr hagre sbytraqrz Yvax zrue: uggcf://qbpf.fpvcl.bet/qbp/ahzcl/ersrerapr/pbafgnagf.ugzy#ahzcl.arjnkvf"
   ]
  },
  {
   "cell_type": "markdown",
   "metadata": {},
   "source": [
    "Lässt sich `c` bzw. `d` transponieren? Warum?"
   ]
  },
  {
   "cell_type": "code",
   "execution_count": 6,
   "metadata": {},
   "outputs": [
    {
     "name": "stdout",
     "output_type": "stream",
     "text": [
      "c.T =  [[ 2  4  6  8 10]] \n",
      "d.T =  [[ 2]\n",
      " [ 4]\n",
      " [ 6]\n",
      " [ 8]\n",
      " [10]]\n",
      "1\n"
     ]
    }
   ],
   "source": [
    "print(\"c.T = \", c.T, \"\\nd.T = \", d.T)\n",
    "print(b.ndim)"
   ]
  },
  {
   "cell_type": "markdown",
   "metadata": {},
   "source": [
    "`c` und `d` lassen sich transponieren, weil sie nun zweidimensional sind."
   ]
  },
  {
   "cell_type": "markdown",
   "metadata": {},
   "source": [
    "(4) Betrachten Sie die dritte Zeile des unten stehenden Codes: Hat sich durch die Zeile `k[0, 1] = 10` das Array `m` geändert? Falls ja, warum? Falls nein, warum hat es sich nicht geändert?"
   ]
  },
  {
   "cell_type": "code",
   "execution_count": 7,
   "metadata": {},
   "outputs": [
    {
     "name": "stdout",
     "output_type": "stream",
     "text": [
      "k = [[ 1  2  3  4]\n",
      " [ 5  6  7  8]\n",
      " [ 9 10 11 12]]\n",
      "m = [[2 3]\n",
      " [6 7]]\n",
      "m = [[10  3]\n",
      " [ 6  7]]\n"
     ]
    }
   ],
   "source": [
    "k = np.array([[1,2,3,4], [5,6,7,8], [9,10,11,12]])\n",
    "print(\"k =\", k)\n",
    "m = k[:2, 1:3]\n",
    "print(\"m =\", m)\n",
    "k[0, 1] = 10\n",
    "print(\"m =\", m)"
   ]
  },
  {
   "cell_type": "markdown",
   "metadata": {},
   "source": [
    "Das Array `m` hat sich geändert, weil Array Slices _views_, also Referenzen auf die eigentlichen Daten zurückliefern."
   ]
  },
  {
   "cell_type": "markdown",
   "metadata": {},
   "source": [
    "**Antwort (rot-13 kodiert):** Wn, qnf Neenl z ung fvpu träaqreg: z vfg ahe rva \"Ivrj\" nhs rvara Orervpu qrf Neenlf x. Rvar Äaqrehat iba x ireäaqreg qnzvg nhpu z. Ivrjf jreqra qhepu \"Onfvp Fyvpvat\" remrhtg. Fvr xöaara qvrf rvazny xbagebyyvrera, vaqrz Fvr zvg `cevag(z)` ibe qre qevggra Mrvyr haq anpu qre qevggra Mrvyr qra Vaunyg iba z nhftrora."
   ]
  },
  {
   "cell_type": "markdown",
   "metadata": {},
   "source": [
    "(5) Betrachten Sie die dritte Zeile des unten stehenden Codes: Hat sich durch die Änderung des Arrays `p` der Inhalt von `q` geändert? Falls ja, warum? Falls nein, warum hat es sich nicht geändert?"
   ]
  },
  {
   "cell_type": "code",
   "execution_count": 8,
   "metadata": {
    "collapsed": false,
    "jupyter": {
     "outputs_hidden": false
    },
    "pycharm": {
     "name": "#%%\n"
    }
   },
   "outputs": [
    {
     "name": "stdout",
     "output_type": "stream",
     "text": [
      "[5 9]\n",
      "[5 9]\n"
     ]
    }
   ],
   "source": [
    "p = np.array([[1,2,3,4], [5,6,7,8], [9,10,11,12]])\n",
    "q = p[[1, 2], 0]\n",
    "print(q)\n",
    "p[1, 0] = 25\n",
    "print(q)"
   ]
  },
  {
   "cell_type": "markdown",
   "metadata": {},
   "source": [
    "Der Inhalt von `q` hat sich nicht geändert, da _Advanced indexing_ immer eine Kopie zurückliefert."
   ]
  },
  {
   "cell_type": "markdown",
   "metadata": {},
   "source": [
    "**Antwort (rot-13 kodiert):** Arva, qre Vaunyg iba d äaqreg fvpu qnqhepu avpug. Orv Nqinaprq Vaqrkvat jreqra vzzre Xbcvra qre Neenlf remrhtg. Yrqvtyvpu orvz Onfvp Vaqrkvat, qnf fvr va rvarz qre ibenatrtnatrara Pbqrorvfcvryr xraaratryreag unggra, jreqra yrqvtyvpu \"Ivrjf\" haq xrvar Xbcvra remrhtg."
   ]
  },
  {
   "cell_type": "markdown",
   "metadata": {},
   "source": [
    "## 2 Broadcasting - Teil 1\n",
    "\n",
    "Broadcasting ist eine der häufigsten Fehlerquellen, die Sie nur verstehen können, wenn Sie sich mit den sogenannten Broadcasting-Regeln von Numpy beschäftigt haben. Diese Regeln legen fest, wie Numpy Arrays miteinander verrechnet werden können - und diese Regeln unterscheiden sich in Teilen von den Rechenregeln, die Sie aus der linearen Algebra kennen.\n",
    "\n",
    "- Lesen Sie jetzt [diesen Buchabschnitt](https://jakevdp.github.io/PythonDataScienceHandbook/02.05-computation-on-arrays-broadcasting.html) und verstehen Sie die drei Broadcasting-Regeln.\n",
    "\n",
    "Unten sehen Sie eine Operation mit zwei Numpy Arrays `a` und `b`."
   ]
  },
  {
   "cell_type": "markdown",
   "metadata": {},
   "source": [
    "**Ihre Aufgaben**\n",
    "\n",
    "(1) Betrachten Sie die unten stehende Code-Zelle. Welchen Shape (Anzahl Zeilen, Anzahl Spalten) wird das Numpy Array `c` erhalten? \n",
    "\n",
    "  * Tragen Sie ihre Voraussage in die Variable `shape` ein. \n",
    "  * Begründen Sie Ihre Vorhersage mit den drei Broadcasting Regeln aus dem Buch.\n",
    "  * Berechnen Sie auf Papier das zu erwartende Ergebnis. Tragen Sie es als Numpy Array in die Variable `ergebnis` ein.\n",
    "  * Führen Sie dann jeweils die Zelle aus, um zu schauen, ob Sie richtig lagen."
   ]
  },
  {
   "cell_type": "code",
   "execution_count": 9,
   "metadata": {},
   "outputs": [
    {
     "name": "stdout",
     "output_type": "stream",
     "text": [
      "Shape korrekt.\n",
      "\n",
      "Ergebnis korrekt.\n",
      "\n"
     ]
    }
   ],
   "source": [
    "import numpy as np\n",
    "\n",
    "a = np.array([1, 2, 3])\n",
    "b = np.array([4, 5, 6])\n",
    "\n",
    "c = a + b\n",
    "\n",
    "# Ihre Vorhersagen\n",
    "shape = (3,) \n",
    "ergebnis = np.array([5, 7, 9])\n",
    "\n",
    "print('{}\\n'.format('Shape korrekt.' if np.all(shape==c.shape) else 'Shape nicht korrekt.'))\n",
    "print('{}\\n'.format('Ergebnis korrekt.' if np.array_equal(ergebnis, c) else 'Ergebnis nicht korrekt.'))"
   ]
  },
  {
   "cell_type": "markdown",
   "metadata": {},
   "source": [
    "\"Binary operations are performed on an element-by-element basis.\""
   ]
  },
  {
   "cell_type": "markdown",
   "metadata": {},
   "source": [
    "(2) Betrachten Sie die unten stehende Code-Zelle. Welchen Shape (Anzahl Zeilen, Anzahl Spalten) wird das Numpy Array `c` erhalten? \n",
    "\n",
    "  * Tragen Sie ihre Voraussage in die Variable `shape` ein. \n",
    "  * Begründen Sie Ihre Vorhersage mit den drei Broadcasting Regeln aus dem Buch.\n",
    "  * Berechnen Sie auf Papier das zu erwartende Ergebnis. Tragen Sie es als Numpy Array in die Variable `ergebnis` ein.\n",
    "  * Führen Sie dann jeweils die Zelle aus, um zu schauen, ob Sie richtig lagen."
   ]
  },
  {
   "cell_type": "code",
   "execution_count": 10,
   "metadata": {},
   "outputs": [
    {
     "name": "stdout",
     "output_type": "stream",
     "text": [
      "Shape Korrekt.\n",
      "\n",
      "Ergebnis korrekt.\n",
      "\n",
      "Da a die Dimension 1 hat, füllen wir nach Regel 1 mit Einsen von links auf, sodass wir von der Shape (3,) zu (1, 3) kommen.\n",
      "Nun dehnen wir nach Regel 2 an jeder Stelle der Shape, wo die Dimensionen unterschiedlich sind, die Dimension von 1 zu der höheren, also hier bei a zu (3, 3) und bei b von (3, 1) zu (3,3).\n"
     ]
    }
   ],
   "source": [
    "a = np.array([1, 2, 3])\n",
    "b = np.array([4, 5, 6])[:, np.newaxis]\n",
    "\n",
    "c = a + b\n",
    "\n",
    "shape = (3,3) # Ihre Vorhersage\n",
    "ergebnis = np.array([[5, 6, 7],\n",
    "                     [6, 7, 8],\n",
    "                     [7, 8, 9]\n",
    "                    ])\n",
    "\n",
    "print('{}\\n'.format('Shape Korrekt.' if np.all(shape==c.shape) else 'Shape nicht korrekt.'))\n",
    "print('{}\\n'.format('Ergebnis korrekt.' if np.array_equal(ergebnis, c) else 'Ergebnis nicht korrekt.'))\n",
    "\n",
    "print(\"Da a die Dimension\", a.ndim, \"hat, füllen wir nach Regel 1 mit Einsen von links auf, sodass wir von der Shape\", a.shape, \"zu (1, 3) kommen.\")\n",
    "print(\"Nun dehnen wir nach Regel 2 an jeder Stelle der Shape, wo die Dimensionen unterschiedlich sind, die Dimension von 1 zu der höheren, also hier\", \n",
    "      \"bei a zu (3, 3) und bei b von\", b.shape, \"zu (3,3).\")"
   ]
  },
  {
   "cell_type": "markdown",
   "metadata": {},
   "source": [
    "(3) Betrachten Sie die unten stehende Code-Zelle. Welchen Shape (Anzahl Zeilen, Anzahl Spalten) wird das Numpy Array `c` erhalten? \n",
    "\n",
    "  * Tragen Sie ihre Voraussage in die Variable `shape` ein. \n",
    "  * Begründen Sie Ihre Vorhersage mit den drei Broadcasting Regeln aus dem Buch.\n",
    "  * Berechnen Sie auf Papier das zu erwartende Ergebnis. Tragen Sie es als Numpy Array in die Variable `ergebnis` ein.\n",
    "  * Führen Sie dann jeweils die Zelle aus, um zu schauen, ob Sie richtig lagen."
   ]
  },
  {
   "cell_type": "code",
   "execution_count": 11,
   "metadata": {},
   "outputs": [
    {
     "name": "stdout",
     "output_type": "stream",
     "text": [
      "Shape korrekt.\n",
      "\n",
      "Ergebnis korrekt.\n",
      "\n",
      "Da a die Form (2, 3) hat, füllen wir nach Regel 1 mit Einsen von links auf, sodass wir (1, 2, 3) erhalten.\n",
      "Nun vergleichen wir nach Regel 2 mit der Shape von b (4, 1, 3) und können vorhersagen, dass die Shape von c (4, 2, 3) ist.\n"
     ]
    }
   ],
   "source": [
    "a = np.array([[1, 0, 0], [0, 0, 2]])\n",
    "b = np.ones(12).reshape((4, 1, 3))\n",
    "\n",
    "c = a * b\n",
    "\n",
    "shape = (4, 2, 3) # Ihre Vorhersage\n",
    "ergebnis = np.array([\n",
    "    [\n",
    "        [1, 0, 0],\n",
    "        [0, 0, 2]\n",
    "    ],\n",
    "    [\n",
    "        [1, 0, 0],\n",
    "        [0, 0, 2]\n",
    "    ],\n",
    "    [\n",
    "        [1, 0, 0],\n",
    "        [0, 0, 2]\n",
    "    ],\n",
    "    [\n",
    "        [1, 0, 0],\n",
    "        [0, 0, 2]\n",
    "    ],\n",
    "]) # Ich vermute, dass sie hierüber länger nachdenken werden. # Hahaha, ging doch ganz flott! Lol. :D\n",
    "\n",
    "print('{}\\n'.format('Shape korrekt.' if np.all(shape==c.shape) else 'Shape nicht korrekt.'))\n",
    "print('{}\\n'.format('Ergebnis korrekt.' if np.array_equal(ergebnis, c) else 'Ergebnis nicht korrekt.'))\n",
    "\n",
    "print(\"Da a die Form\", a.shape, \"hat, füllen wir nach Regel 1 mit Einsen von links auf, sodass wir (1, 2, 3) erhalten.\")\n",
    "print(\"Nun vergleichen wir nach Regel 2 mit der Shape von b\", b.shape, \"und können vorhersagen, dass die Shape von c\", c.shape, \"ist.\")"
   ]
  },
  {
   "cell_type": "markdown",
   "metadata": {},
   "source": [
    "## 3 Broadcasting Teil 2\n",
    "\n",
    "Ein häufiger Vorverarbeitungsschritt, der Ihnen in verschiedenen Data Science Projekten begegnen wird, ist die Normierung von Daten. Häufig werden dabei Datensätze, z.B. Zeitreihen, auf Mittelwert $0$ und Standardabweichung $1$ normiert. Dieser Vorgang wird auch *z-scoring* (oder: *Standardisierung*) genannt:\n",
    "\n",
    "Sei $x_i$ der $i$-te Datenpunkt einer Zeitreihe. Dann ist der z-score dieses Datenpunkts definiert als\n",
    "\n",
    "$$\\tilde{x}_i = \\frac{x_i - \\bar{x}}{\\sigma},$$ \n",
    "\n",
    "wobei $\\bar{x}$ den Mittelwert sowie $\\sigma$ die Standardabweichung der Zeitreihe bezeichnen.\n",
    "\n",
    "Das in der unten stehenden Code-Zelle definierte Numpy Array `X` enthält 5 Zeitreihen (Spalten) mit je 30 Einträgen (Zeilen). \n",
    "\n",
    "* Nutzen Sie Broadcasting sowie [np.mean](https://docs.scipy.org/doc/numpy/reference/generated/numpy.mean.html) und [np.std](https://docs.scipy.org/doc/numpy/reference/generated/numpy.std.html), um die Zeitreihen auf Mittelwert 0 und Varianz 1 zu normieren. Die transformierten Zeitreihen sollen im Numpy Array `Y` gespeichert werden. Dabei schreiben Sie nur eine Zeile Code, um die Zeitreihen zu transformieren.\n",
    "* Beachten Sie das `axis` Argument bei `np.mean` und `np.std`."
   ]
  },
  {
   "cell_type": "code",
   "execution_count": 12,
   "metadata": {},
   "outputs": [
    {
     "name": "stdout",
     "output_type": "stream",
     "text": [
      "X = [[7 0]\n",
      " [2 0]\n",
      " [2 1]\n",
      " [0 4]\n",
      " [7 2]]\n",
      "Mittelwert der Zeitreihen:\n",
      " [3.6 1.4]\n",
      "Standardabweichung der Zeitreihen:\n",
      " [2.87054002 1.49666295]\n",
      "X - x_mean:\n",
      " [[ 3.4 -1.4]\n",
      " [-1.6 -1.4]\n",
      " [-1.6 -0.4]\n",
      " [-3.6  2.6]\n",
      " [ 3.4  0.6]]\n",
      "(X - x_mean) / x_std:\n",
      " [[ 1.18444612 -0.93541435]\n",
      " [-0.55738641 -0.93541435]\n",
      " [-0.55738641 -0.26726124]\n",
      " [-1.25411943  1.73719807]\n",
      " [ 1.18444612  0.40089186]]\n"
     ]
    }
   ],
   "source": [
    "import numpy as np\n",
    "\n",
    "X = np.random.random((5, 2))\n",
    "X.dtype = int\n",
    "X %= 10\n",
    "print(\"X =\", X)\n",
    "x_mean = np.mean(X, axis=0)\n",
    "x_std = np.std(X, axis=0)\n",
    "\n",
    "print(\"Mittelwert der Zeitreihen:\\n\", x_mean)\n",
    "print(\"Standardabweichung der Zeitreihen:\\n\", x_std)\n",
    "print(\"X - x_mean:\\n\", X - x_mean)\n",
    "print(\"(X - x_mean) / x_std:\\n\", (X - x_mean)/x_std)"
   ]
  },
  {
   "cell_type": "code",
   "execution_count": 13,
   "metadata": {},
   "outputs": [
    {
     "name": "stdout",
     "output_type": "stream",
     "text": [
      "[[0.5488135  0.71518937 0.60276338 0.54488318 0.4236548 ]\n",
      " [0.64589411 0.43758721 0.891773   0.96366276 0.38344152]\n",
      " [0.79172504 0.52889492 0.56804456 0.92559664 0.07103606]\n",
      " [0.0871293  0.0202184  0.83261985 0.77815675 0.87001215]\n",
      " [0.97861834 0.79915856 0.46147936 0.78052918 0.11827443]\n",
      " [0.63992102 0.14335329 0.94466892 0.52184832 0.41466194]\n",
      " [0.26455561 0.77423369 0.45615033 0.56843395 0.0187898 ]\n",
      " [0.6176355  0.61209572 0.616934   0.94374808 0.6818203 ]\n",
      " [0.3595079  0.43703195 0.6976312  0.06022547 0.66676672]\n",
      " [0.67063787 0.21038256 0.1289263  0.31542835 0.36371077]\n",
      " [0.57019677 0.43860151 0.98837384 0.10204481 0.20887676]\n",
      " [0.16130952 0.65310833 0.2532916  0.46631077 0.24442559]\n",
      " [0.15896958 0.11037514 0.65632959 0.13818295 0.19658236]\n",
      " [0.36872517 0.82099323 0.09710128 0.83794491 0.09609841]\n",
      " [0.97645947 0.4686512  0.97676109 0.60484552 0.73926358]\n",
      " [0.03918779 0.28280696 0.12019656 0.2961402  0.11872772]\n",
      " [0.31798318 0.41426299 0.0641475  0.69247212 0.56660145]\n",
      " [0.26538949 0.52324805 0.09394051 0.5759465  0.9292962 ]\n",
      " [0.31856895 0.66741038 0.13179786 0.7163272  0.28940609]\n",
      " [0.18319136 0.58651293 0.02010755 0.82894003 0.00469548]\n",
      " [0.67781654 0.27000797 0.73519402 0.96218855 0.24875314]\n",
      " [0.57615733 0.59204193 0.57225191 0.22308163 0.95274901]\n",
      " [0.44712538 0.84640867 0.69947928 0.29743695 0.81379782]\n",
      " [0.39650574 0.8811032  0.58127287 0.88173536 0.69253159]\n",
      " [0.72525428 0.50132438 0.95608363 0.6439902  0.42385505]\n",
      " [0.60639321 0.0191932  0.30157482 0.66017354 0.29007761]\n",
      " [0.61801543 0.4287687  0.13547406 0.29828233 0.56996491]\n",
      " [0.59087276 0.57432525 0.65320082 0.65210327 0.43141844]\n",
      " [0.8965466  0.36756187 0.43586493 0.89192336 0.80619399]\n",
      " [0.70388858 0.10022689 0.91948261 0.7142413  0.99884701]]\n",
      "[[ 0.16740311  0.99146058  0.26566035 -0.19189575 -0.10401878]\n",
      " [ 0.55391341 -0.15048406  1.19070719  1.37326414 -0.23972755]\n",
      " [ 1.13451499  0.22511946  0.15453418  1.23099463 -1.29401013]\n",
      " [-1.67071577 -1.86737303  1.00137287  0.67994818  1.40231461]\n",
      " [ 1.8785996   1.33687639 -0.18655411  0.68881496 -1.13459362]\n",
      " [ 0.53013254 -1.36084517  1.36001366 -0.27798696 -0.13436721]\n",
      " [-0.96432242  1.23434539 -0.20361099 -0.10387638 -1.47032689]\n",
      " [ 0.44140643  0.56737441  0.31101693  1.29883439  0.76721883]\n",
      " [-0.58628567 -0.15276817  0.56930829 -2.00327065  0.71641712]\n",
      " [ 0.65242656 -1.08511345 -1.25097251 -1.04946742 -0.30631341]\n",
      " [ 0.25253703 -0.14631163  1.49990208 -1.84697374 -0.82883566]\n",
      " [-1.37537957  0.73608391 -0.85291057 -0.48555474 -0.7088681 ]\n",
      " [-1.38469563 -1.49650412  0.43711227 -1.71190993 -0.87032586]\n",
      " [-0.54958864  1.42669551 -1.35283637  0.90340231 -1.20943159]\n",
      " [ 1.87000439 -0.02269919  1.4627326   0.03220936  0.96107412]\n",
      " [-1.86158691 -0.78718832 -1.2789142  -1.12155557 -1.13306388]\n",
      " [-0.75160944 -0.24643059 -1.4583131   0.35970776  0.37838689]\n",
      " [-0.96100247  0.20189051 -1.36295318 -0.07579876  1.60238198]\n",
      " [-0.74927728  0.79491687 -1.24178136  0.4488645  -0.55707127]\n",
      " [-1.28826065  0.46213702 -1.59927386  0.86974719 -1.51789136]\n",
      " [ 0.68100723 -0.83983826  0.68953741  1.36775437 -0.69426381]\n",
      " [ 0.27626802  0.4848811   0.16800083 -1.39460694  1.68152878]\n",
      " [-0.23745125  1.53124451  0.57522352 -1.11670904  1.2126067 ]\n",
      " [-0.43898492  1.67396396  0.19687467  1.06706612  0.8033665 ]\n",
      " [ 0.86987272  0.11170526  1.39654929  0.17850991 -0.103343  ]\n",
      " [ 0.39664715 -1.8715903  -0.69836819  0.23899403 -0.5548051 ]\n",
      " [ 0.44291907 -0.1867599  -1.23001477 -1.11354951  0.38973764]\n",
      " [ 0.33485505  0.41200173  0.42709787  0.20883196 -0.07781864]\n",
      " [ 1.55184459 -0.43854041 -0.26853946  1.10514305  1.18694586]\n",
      " [ 0.78480875 -1.53824999  1.27939866  0.44106857  1.83709685]]\n"
     ]
    }
   ],
   "source": [
    "import numpy as np\n",
    "np.random.seed(0)\n",
    "\n",
    "X = np.random.random((30, 5))\n",
    "#print(X)\n",
    "\n",
    "# Ihr Ergebnis: Y = \n",
    "Y = ((X - np.mean(X, axis=0)) / np.std(X, axis=0))\n",
    "\n",
    "print(X)\n",
    "print(Y)"
   ]
  },
  {
   "cell_type": "markdown",
   "metadata": {},
   "source": [
    "## 4 Advanced Indexing\n",
    "\n",
    "Advanced Indexing, auch manchmal *fancy indexing* genannt, erlaubt Ihnen auf schnelle Art und Weise komplexe Zugriffe auf Arrays zu realisieren.\n",
    "\n",
    "- Lesen Sie jetzt [diesen Buchabschnitt](https://jakevdp.github.io/PythonDataScienceHandbook/02.07-fancy-indexing.html) und verstehen Sie fancy indexing.\n",
    "\n",
    "**Ihre Aufgaben**\n",
    "\n",
    "(1) Betrachten Sie die unten stehenden Code-Zellen.\n",
    "* Tragen Sie in der Variable `vorhersage` ein, welches Array Sie in Variable `y` erwarten.\n",
    "* Prüfen Sie durch Ausführen des Codes, ob Ihre Vorhersage richtig war.\n",
    "* Beantworten Sie die Frage: Wodurch wird der Shape des Arrays `y` bestimmt?"
   ]
  },
  {
   "cell_type": "code",
   "execution_count": 14,
   "metadata": {},
   "outputs": [
    {
     "name": "stdout",
     "output_type": "stream",
     "text": [
      "Ergebnis korrekt.\n",
      "\n"
     ]
    }
   ],
   "source": [
    "import numpy as np \n",
    "\n",
    "x = np.array([[1, 2], [3, 4], [5, 6]]) \n",
    "y = x[[0,1,2], [0,1,0]] \n",
    "\n",
    "vorhersage = np.array(\n",
    "    [1, 4, 5]\n",
    ") # Ihre Vorhersage\n",
    "\n",
    "print('{}\\n'.format('Ergebnis korrekt.' if np.array_equal(vorhersage, y) else 'Ergebnis nicht korrekt.'))"
   ]
  },
  {
   "cell_type": "markdown",
   "metadata": {},
   "source": [
    "Die Shape von `y` wird bestimmt von den Koordinatenpaaren bei der Zuweisung. "
   ]
  },
  {
   "cell_type": "markdown",
   "metadata": {},
   "source": [
    "(2) Betrachten Sie den unten stehenden Code-Zellen.\n",
    "* Tragen Sie in der Variable `vorhersage` ein, welches Array Sie in Variable `y` erwarten.\n",
    "* Prüfen Sie durch Ausführen des Codes, ob Ihre Vorhersage richtig war.\n",
    "* Beantworten Sie die Frage: Wodurch wird der Shape des Arrays `y` bestimmt?"
   ]
  },
  {
   "cell_type": "code",
   "execution_count": 15,
   "metadata": {},
   "outputs": [
    {
     "name": "stdout",
     "output_type": "stream",
     "text": [
      "Ergebnis korrekt.\n",
      "\n"
     ]
    }
   ],
   "source": [
    "x = np.array([[0,  1,  2], [3,  4,  5], [6,  7,  8], [9, 10, 11]]) \n",
    "   \n",
    "rows = np.array([[0,0],[3,3]])\n",
    "cols = np.array([[0,2],[0,2]]) \n",
    "y = x[rows,cols] \n",
    "\n",
    "vorhersage = np.array([\n",
    "    [0, 2],\n",
    "    [9, 11]\n",
    "]) # Ihre Vorhersage\n",
    "\n",
    "print('{}\\n'.format('Ergebnis korrekt.' if np.array_equal(vorhersage, y) else 'Ergebnis nicht korrekt.'))"
   ]
  },
  {
   "cell_type": "markdown",
   "metadata": {},
   "source": [
    "Die Shape wird durch die _broadcasted_ Shape der Indizes bestimmt."
   ]
  },
  {
   "cell_type": "markdown",
   "metadata": {},
   "source": [
    "(3) Betrachten Sie den unten stehenden Code-Zellen.\n",
    "* Tragen Sie in der Variable `vorhersage` ein, welches Array Sie in Variable `y` erwarten.\n",
    "* Prüfen Sie durch Ausführen des Codes, ob Ihre Vorhersage richtig war.\n",
    "* Beantworten Sie die Frage: Wodurch wird der Shape des Arrays `y` bestimmt?"
   ]
  },
  {
   "cell_type": "code",
   "execution_count": 16,
   "metadata": {},
   "outputs": [
    {
     "name": "stdout",
     "output_type": "stream",
     "text": [
      "Ergebnis korrekt.\n",
      "\n"
     ]
    }
   ],
   "source": [
    "x = np.array([[0, 1, 2],\n",
    "              [3, 4, 5],\n",
    "              [6, 7, 8],\n",
    "              [9, 10, 11]\n",
    "             ]) \n",
    "\n",
    "y = x[1:4,[1,2]] # Kombination von Slicing und Advanced Indexing\n",
    "\n",
    "vorhersage = np.array([\n",
    "    [4, 5],\n",
    "    [7, 8],\n",
    "    [10, 11]\n",
    "]) # Ihre Vorhersage\n",
    "\n",
    "print('{}\\n'.format('Ergebnis korrekt.' if np.array_equal(vorhersage, y) else 'Ergebnis nicht korrekt.'))"
   ]
  },
  {
   "cell_type": "markdown",
   "metadata": {},
   "source": [
    "Die Shape wird durch die _broadcasted_ Shape der Indizes bestimmt."
   ]
  },
  {
   "cell_type": "markdown",
   "metadata": {},
   "source": [
    "Ich darf Ihnen gratulieren. Sie haben hiermit diesen Teil Ihrer Vorbereitungen erfolgreich beendet."
   ]
  },
  {
   "cell_type": "markdown",
   "metadata": {},
   "source": [
    "## 5 Vektor-/Matrizen-Multiplikationen\n",
    "\n",
    "Wenn Sie Matrizen und/oder Vektoren in Numpy multiplizieren wollen, dann stehen Ihnen eine Reihe von Befehlen und Operatoren zur Verfügung. Manche dieser Befehle und Operatoren verhalten sich identisch:\n",
    "\n",
    "- `*` verhält sich wie `np.multiply`:\n",
    "\n",
    "  A \\* B (bzw. np.multiply(A,B)) führt eine **elementweise Multiplikation** zwischen den Matrizen (oder Vektoren) A und B durch.\n",
    "\n",
    "- `np.dot`:\n",
    "\n",
    "   np.dot(u,v) berechnet das **Skalarprodukt** zwischen den Vektoren *u* und *v*. Wenn *u* und *v* 2-dimensionale Matrizen sind, dann wird das [Matrixprodukt](https://de.wikipedia.org/wiki/Matrizenmultiplikation) bestimmt.\n",
    "\n",
    "- `@` verhält sich wie `np.matmul`:\n",
    "\n",
    "  A @ B (bzw. np.matmul(A,B)) berechnet das [Matrixprodukt](https://de.wikipedia.org/wiki/Matrizenmultiplikation) zwischen den Matrizen A und B.\n",
    "\n",
    "**Ihre Aufgaben**\n",
    "\n",
    "(1) Führen Sie die unten stehenden Code-Zelle aus. Dort werden die beiden Matrizen A und B multipliziert. Erhalten Sie gleiche oder ungleiche Ergebnisse, wenn Sie `@` oder `np.dot` für die Multiplikation benutzen?\n"
   ]
  },
  {
   "cell_type": "code",
   "execution_count": 17,
   "metadata": {},
   "outputs": [
    {
     "name": "stdout",
     "output_type": "stream",
     "text": [
      "Matrix A:\n",
      " [[1 2 3]\n",
      " [4 5 6]\n",
      " [7 8 9]]  shape:  (3, 3) \n",
      "\n",
      "Matrix B:\n",
      " [[2 1 3]\n",
      " [9 3 5]\n",
      " [1 4 2]]  shape:  (3, 3) \n",
      "\n",
      "Matrix C:\n",
      " [[23 19 19]\n",
      " [59 43 49]\n",
      " [95 67 79]]  shape:  (3, 3) \n",
      "\n",
      "Matrix D:\n",
      " [[23 19 19]\n",
      " [59 43 49]\n",
      " [95 67 79]]  shape:  (3, 3)\n",
      "Die Matrizen C und D sind gleich.\n"
     ]
    }
   ],
   "source": [
    "import numpy as np\n",
    "A = np.array([[1,2,3], [4,5,6], [7,8,9]])\n",
    "B = np.array([[2,1,3], [9,3,5], [1,4,2]])\n",
    "C = A @ B\n",
    "D = np.dot(A,B)\n",
    "\n",
    "print('Matrix A:\\n', A, ' shape: ', A.shape,'\\n')\n",
    "print('Matrix B:\\n', B, ' shape: ', B.shape,'\\n')\n",
    "print('Matrix C:\\n', C, ' shape: ', C.shape,'\\n')\n",
    "print('Matrix D:\\n', D, ' shape: ', D.shape)\n",
    "\n",
    "print('Die Matrizen C und D sind {}.'.format('gleich' if np.array_equal(C, D) else 'unterschiedlich'))"
   ]
  },
  {
   "cell_type": "markdown",
   "metadata": {},
   "source": [
    "(2) Führen Sie nun auch die unten stehenden Code-Zelle aus. Dort werden die Matrizen K und L multipliziert. Erhalten Sie gleiche oder ungleiche Ergebnisse, wenn Sie `@` oder `np.dot` für die Multiplikation benutzen?"
   ]
  },
  {
   "cell_type": "code",
   "execution_count": 18,
   "metadata": {},
   "outputs": [
    {
     "name": "stdout",
     "output_type": "stream",
     "text": [
      "Matrix K:\n",
      " [[[1 1]\n",
      "  [1 1]]\n",
      "\n",
      " [[1 1]\n",
      "  [1 1]]]  shape:  (2, 2, 2) \n",
      "\n",
      "Matrix L:\n",
      " [[[2 2]\n",
      "  [2 2]]\n",
      "\n",
      " [[2 2]\n",
      "  [2 2]]]  shape:  (2, 2, 2) \n",
      "\n",
      "Matrix X:\n",
      " [[[4 4]\n",
      "  [4 4]]\n",
      "\n",
      " [[4 4]\n",
      "  [4 4]]]  shape:  (2, 2, 2) \n",
      "\n",
      "Matrix Y:\n",
      " [[[[4 4]\n",
      "   [4 4]]\n",
      "\n",
      "  [[4 4]\n",
      "   [4 4]]]\n",
      "\n",
      "\n",
      " [[[4 4]\n",
      "   [4 4]]\n",
      "\n",
      "  [[4 4]\n",
      "   [4 4]]]]  shape:  (2, 2, 2, 2)\n",
      "Die Matrizen X und Y sind unterschiedlich.\n"
     ]
    }
   ],
   "source": [
    "import numpy as np\n",
    "K = np.full([2,2,2], 1)\n",
    "L = np.full([2,2,2], 2)\n",
    "\n",
    "X = K @ L\n",
    "Y = np.dot(K,L)\n",
    "\n",
    "print('Matrix K:\\n', K, ' shape: ', K.shape, '\\n')\n",
    "print('Matrix L:\\n', L, ' shape: ', L.shape, '\\n')\n",
    "print('Matrix X:\\n', X, ' shape: ', X.shape,'\\n')\n",
    "print('Matrix Y:\\n', Y, ' shape: ', Y.shape,)\n",
    "\n",
    "print('Die Matrizen X und Y sind {}.'.format('gleich' if np.array_equal(X, Y) else 'unterschiedlich'))"
   ]
  },
  {
   "cell_type": "markdown",
   "metadata": {},
   "source": [
    "(3) Was ist der Grund dafür, dass Sie ein unterschiedliches Verhalten in Teilaufgabe (1) und (2) beobachten?\n",
    "\n",
    "- Lesen Sie auf [dieser Webseite](https://web.archive.org/web/20230922151818/https://mkang32.github.io/python/2020/08/30/numpy-matmul.html) den Abschnitt *So.. what's with np.dot vs np.matmul (@)?*"
   ]
  },
  {
   "cell_type": "markdown",
   "metadata": {},
   "source": [
    "Der Grund liegt darin, dass `np.dot` sich nur für 2 dimensionale Arrays wie die Matrixmultiplikation mit `@` verhält. Ansonsten verhält es sich so:\n",
    "> For 2-D arrays it is equivalent to matrix multiplication,\n",
    "> \n",
    "> for 1-D arrays to inner product of vectors (without complex conjugation)\n",
    "> \n",
    "> For N dimensions it is a sum product over the last axis of a and the second-to-last of b.\n",
    "> \n",
    "> If a is an N-D array and b is an M-D array (where M>=2), it is a sum product over the last axis of a and the second-to-last axis of b:\n",
    "> $$dot(a, b)[i,j,k,m] = sum(a[i,j,:] * b[k,:,m])$$"
   ]
  },
  {
   "cell_type": "markdown",
   "metadata": {},
   "source": [
    "(4) Wenn Sie in diesem Kurs Multiplikationen durchführen müssen, nutzen Sie immer\n",
    "\n",
    "- `@`, wenn Sie Matrizen miteinander multiplizieren\n",
    "- `np.dot`, wenn Sie ein Skalarprodukt berechnen wollen. Nutzen Sie `np.dot` **nicht** für Matrixmultiplikationen, um Fehlern vorzubeugen\n",
    "- `np.multiply`, wenn Sie elementweise Multiplikationen durchführen wollen."
   ]
  },
  {
   "cell_type": "markdown",
   "metadata": {
    "pycharm": {
     "name": "#%% md\n"
    }
   },
   "source": [
    "### Lernressourcen\n",
    "\n",
    "Ich habe Ihnen in der ILIAS \"Python Lerngruppe\" viele Materialien zum Nachschlagen und Ihr Selbststudium hinterlegt. Sie finden aber natürlich auch im Netz weitere hilfreiche Tutorials:\n",
    "\n",
    "1. Eine Fülle von Tutorials zum Erlernen von *Python* finden Sie [hier](https://wiki.python.org/moin/BeginnersGuide/Programmers). Es gibt auch eine ganze Reihe von Cheatsheets, zum Beispiel [dieses hier](https://s3.amazonaws.com/dq-blog-files/python-cheat-sheet-basic.pdf).\n",
    "2. Wenn Sie Programmiererfahrung in Java, aber nicht in Python haben, dann könnten folgender [Vergleich](http://math-cs.gordon.edu/courses/cps122/handouts-2014/From%20Python%20to%20Java%20Lecture/A%20Comparison%20of%20the%20Syntax%20of%20Python%20and%20Java.pdf) sowie die Anleitung [Python for Java Programmers](http://python4java.necaiseweb.org/Main/TableOfContents) hilfreich sein.\n",
    "3. Wenn Sie Programmiererfahrung in Matlab, aber nicht in Python haben, dann könnte folgende [Webseite](https://numpy.org/doc/stable/user/numpy-for-matlab-users.html) für Sie sehr hilfreich sein. Nutzen Sie daneben auch dieses [Cheatsheet](http://mathesaurus.sourceforge.net/matlab-python-xref.pdf).\n",
    "4. Ein Tutorial für eine Einführung zu *numpy* finden Sie beispielsweise [hier](https://docs.scipy.org/doc/numpy/user/quickstart.html) oder [hier](https://www.pythonlikeyoumeanit.com/Module3_IntroducingNumpy/IntroducingTheNDarray.html).\n",
    "5. Ein Tutorial, das Ihnen die wichtigste Plotting-Funktion von *Matplotlib* näher bringt, finden Sie beispielsweise [hier](https://matplotlib.org/tutorials/introductory/pyplot.html#sphx-glr-tutorials-introductory-pyplot-py).\n",
    "\n"
   ]
  }
 ],
 "metadata": {
  "hide_input": false,
  "kernelspec": {
   "display_name": "Python 3 (ipykernel)",
   "language": "python",
   "name": "python3"
  },
  "language_info": {
   "codemirror_mode": {
    "name": "ipython",
    "version": 3
   },
   "file_extension": ".py",
   "mimetype": "text/x-python",
   "name": "python",
   "nbconvert_exporter": "python",
   "pygments_lexer": "ipython3",
   "version": "3.11.4"
  }
 },
 "nbformat": 4,
 "nbformat_minor": 4
}
